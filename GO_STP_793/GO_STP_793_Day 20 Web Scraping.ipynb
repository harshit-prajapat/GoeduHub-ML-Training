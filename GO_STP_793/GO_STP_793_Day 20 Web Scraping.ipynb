{
 "cells": [
  {
   "cell_type": "code",
   "execution_count": 1,
   "id": "physical-poison",
   "metadata": {},
   "outputs": [],
   "source": [
    "from bs4 import BeautifulSoup\n",
    "import requests\n",
    "import pandas as pd"
   ]
  },
  {
   "cell_type": "code",
   "execution_count": 2,
   "id": "relevant-casino",
   "metadata": {},
   "outputs": [],
   "source": [
    "url = \"https://www.flipkart.com/search?q=laptop&sid=6bo%2Cb5g&as=on&as-show=on&otracker=AS_QueryStore_OrganicAutoSuggest_1_6_na_na_ps&otracker1=AS_QueryStore_OrganicAutoSuggest_1_6_na_na_ps&as-pos=1&as-type=RECENT&suggestionId=laptop%7CLaptops&requestId=5c6535a3-ccea-4306-869d-ea330b51cf13&as-searchtext=laptop\""
   ]
  },
  {
   "cell_type": "code",
   "execution_count": 3,
   "id": "cognitive-pillow",
   "metadata": {},
   "outputs": [
    {
     "name": "stdout",
     "output_type": "stream",
     "text": [
      "<Response [200]>\n"
     ]
    }
   ],
   "source": [
    "response = requests.get(url)\n",
    "print(response)\n",
    "#print(response.content)\n",
    "html_content = response.content"
   ]
  },
  {
   "cell_type": "code",
   "execution_count": 4,
   "id": "noted-section",
   "metadata": {},
   "outputs": [],
   "source": [
    "soup = BeautifulSoup(html_content, \"html.parser\")\n",
    "# print(soup.prettify)"
   ]
  },
  {
   "cell_type": "code",
   "execution_count": 9,
   "id": "proved-revelation",
   "metadata": {},
   "outputs": [
    {
     "name": "stdout",
     "output_type": "stream",
     "text": [
      "acer Aspire 5 Core i3 10th Gen - (4 GB + 32 GB Optane/512 GB SSD/Windows 10 Home) A514-53-316M Thin an...\n"
     ]
    }
   ],
   "source": [
    "# product = soup.find('div', attrs ={'class':'_4rR01T'})\n",
    "# print(product.text)"
   ]
  },
  {
   "cell_type": "code",
   "execution_count": 15,
   "id": "infrared-textbook",
   "metadata": {},
   "outputs": [
    {
     "name": "stdout",
     "output_type": "stream",
     "text": [
      "['₹39,999', '₹1,09,990', '₹27,490', '₹41,990', '₹44,990', '₹31,490', '₹50,990', '₹58,990', '₹50,990', '₹37,990', '₹17,990', '₹35,990', '₹41,990', '₹54,990', '₹47,990', '₹33,190', '₹32,990', '₹92,900', '₹56,990', '₹68,999', '₹43,999', '₹42,490', '₹58,990', '₹51,990']\n",
      "['4.3', '4.5', '4', '4.5', '4', '4.2', '4.2', '4.1', '4.5', '4.1', '4.1', '4.2', '4.4', '4.4', '4.4', '3.9', '4.3', '4.7', '4.5', '4.3', '4.3', '4.1', '4.4', '4.4']\n"
     ]
    }
   ],
   "source": [
    "products = []\n",
    "prices = []\n",
    "ratings = []\n",
    "\n",
    "for i in soup.findAll('a', href=True, attrs = {'class':'_1fQZEK'}):\n",
    "    try:\n",
    "        product = i.find('div', attrs ={'class':'_4rR01T'})\n",
    "        products.append(product.text)\n",
    "\n",
    "        price = i.find('div', attrs = {'class': '_30jeq3 _1_WHN1'})\n",
    "        prices.append(price.text)\n",
    "\n",
    "        rating = i.find('div', attrs = {'class': '_3LWZlK'})\n",
    "        ratings.append(rating.text)\n",
    "    except:\n",
    "        ratings.append(\"None\")\n",
    "        print(\"exception occured\")\n",
    "        \n",
    "len(products)\n",
    "print(prices)\n",
    "print(ratings)"
   ]
  },
  {
   "cell_type": "code",
   "execution_count": 16,
   "id": "protective-concern",
   "metadata": {},
   "outputs": [
    {
     "name": "stdout",
     "output_type": "stream",
     "text": [
      "24\n",
      "24\n",
      "24\n"
     ]
    }
   ],
   "source": [
    "print(len(products))\n",
    "print(len(prices))\n",
    "print(len(ratings))"
   ]
  },
  {
   "cell_type": "markdown",
   "id": "stone-documentary",
   "metadata": {},
   "source": [
    "# Storing the results in csv"
   ]
  },
  {
   "cell_type": "code",
   "execution_count": 17,
   "id": "positive-syracuse",
   "metadata": {
    "scrolled": true
   },
   "outputs": [
    {
     "data": {
      "text/html": [
       "<div>\n",
       "<style scoped>\n",
       "    .dataframe tbody tr th:only-of-type {\n",
       "        vertical-align: middle;\n",
       "    }\n",
       "\n",
       "    .dataframe tbody tr th {\n",
       "        vertical-align: top;\n",
       "    }\n",
       "\n",
       "    .dataframe thead th {\n",
       "        text-align: right;\n",
       "    }\n",
       "</style>\n",
       "<table border=\"1\" class=\"dataframe\">\n",
       "  <thead>\n",
       "    <tr style=\"text-align: right;\">\n",
       "      <th></th>\n",
       "      <th>Product Name</th>\n",
       "      <th>Price</th>\n",
       "      <th>Ratings</th>\n",
       "    </tr>\n",
       "  </thead>\n",
       "  <tbody>\n",
       "    <tr>\n",
       "      <th>0</th>\n",
       "      <td>acer Aspire 5 Core i3 10th Gen - (4 GB + 32 GB...</td>\n",
       "      <td>₹39,999</td>\n",
       "      <td>4.3</td>\n",
       "    </tr>\n",
       "    <tr>\n",
       "      <th>1</th>\n",
       "      <td>MSI GL65 Leopard Core i7 10th Gen - (16 GB/1 T...</td>\n",
       "      <td>₹1,09,990</td>\n",
       "      <td>4.5</td>\n",
       "    </tr>\n",
       "    <tr>\n",
       "      <th>2</th>\n",
       "      <td>HP 15s Athlon Dual Core - (4 GB/1 TB HDD/Windo...</td>\n",
       "      <td>₹27,490</td>\n",
       "      <td>4</td>\n",
       "    </tr>\n",
       "    <tr>\n",
       "      <th>3</th>\n",
       "      <td>HP 14s Core i3 11th Gen - (8 GB/256 GB SSD/Win...</td>\n",
       "      <td>₹41,990</td>\n",
       "      <td>4.5</td>\n",
       "    </tr>\n",
       "    <tr>\n",
       "      <th>4</th>\n",
       "      <td>Lenovo IdeaPad 3 Core i5 10th Gen - (8 GB/1 TB...</td>\n",
       "      <td>₹44,990</td>\n",
       "      <td>4</td>\n",
       "    </tr>\n",
       "  </tbody>\n",
       "</table>\n",
       "</div>"
      ],
      "text/plain": [
       "                                        Product Name      Price Ratings\n",
       "0  acer Aspire 5 Core i3 10th Gen - (4 GB + 32 GB...    ₹39,999     4.3\n",
       "1  MSI GL65 Leopard Core i7 10th Gen - (16 GB/1 T...  ₹1,09,990     4.5\n",
       "2  HP 15s Athlon Dual Core - (4 GB/1 TB HDD/Windo...    ₹27,490       4\n",
       "3  HP 14s Core i3 11th Gen - (8 GB/256 GB SSD/Win...    ₹41,990     4.5\n",
       "4  Lenovo IdeaPad 3 Core i5 10th Gen - (8 GB/1 TB...    ₹44,990       4"
      ]
     },
     "execution_count": 17,
     "metadata": {},
     "output_type": "execute_result"
    }
   ],
   "source": [
    "df = pd.DataFrame({'Product Name':products, 'Price':prices, 'Ratings':ratings})\n",
    "df.head()"
   ]
  },
  {
   "cell_type": "code",
   "execution_count": 18,
   "id": "ahead-drain",
   "metadata": {},
   "outputs": [],
   "source": [
    "df.to_csv('laptops.csv')    #DatFrame.tocsvfunc(arg = file name)"
   ]
  },
  {
   "cell_type": "code",
   "execution_count": null,
   "id": "covered-bathroom",
   "metadata": {},
   "outputs": [],
   "source": []
  }
 ],
 "metadata": {
  "kernelspec": {
   "display_name": "Python 3",
   "language": "python",
   "name": "python3"
  },
  "language_info": {
   "codemirror_mode": {
    "name": "ipython",
    "version": 3
   },
   "file_extension": ".py",
   "mimetype": "text/x-python",
   "name": "python",
   "nbconvert_exporter": "python",
   "pygments_lexer": "ipython3",
   "version": "3.8.1"
  }
 },
 "nbformat": 4,
 "nbformat_minor": 5
}
