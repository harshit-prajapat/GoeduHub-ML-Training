{
 "cells": [
  {
   "cell_type": "code",
   "execution_count": 2,
   "id": "given-cherry",
   "metadata": {},
   "outputs": [
    {
     "name": "stdout",
     "output_type": "stream",
     "text": [
      "1.19.5\n",
      "\n",
      "blas_mkl_info:\n",
      "  NOT AVAILABLE\n",
      "blis_info:\n",
      "  NOT AVAILABLE\n",
      "openblas_info:\n",
      "    library_dirs = ['D:\\\\a\\\\1\\\\s\\\\numpy\\\\build\\\\openblas_info']\n",
      "    libraries = ['openblas_info']\n",
      "    language = f77\n",
      "    define_macros = [('HAVE_CBLAS', None)]\n",
      "blas_opt_info:\n",
      "    library_dirs = ['D:\\\\a\\\\1\\\\s\\\\numpy\\\\build\\\\openblas_info']\n",
      "    libraries = ['openblas_info']\n",
      "    language = f77\n",
      "    define_macros = [('HAVE_CBLAS', None)]\n",
      "lapack_mkl_info:\n",
      "  NOT AVAILABLE\n",
      "openblas_lapack_info:\n",
      "    library_dirs = ['D:\\\\a\\\\1\\\\s\\\\numpy\\\\build\\\\openblas_lapack_info']\n",
      "    libraries = ['openblas_lapack_info']\n",
      "    language = f77\n",
      "    define_macros = [('HAVE_CBLAS', None)]\n",
      "lapack_opt_info:\n",
      "    library_dirs = ['D:\\\\a\\\\1\\\\s\\\\numpy\\\\build\\\\openblas_lapack_info']\n",
      "    libraries = ['openblas_lapack_info']\n",
      "    language = f77\n",
      "    define_macros = [('HAVE_CBLAS', None)]\n",
      "None\n"
     ]
    }
   ],
   "source": [
    "#1. Import the numpy package under the name np and Print the numpy version and the configuration \n",
    "import numpy as np\n",
    "\n",
    "print(np.__version__)\n",
    "print()\n",
    "print(np.show_config())"
   ]
  },
  {
   "cell_type": "code",
   "execution_count": 3,
   "id": "public-costa",
   "metadata": {},
   "outputs": [
    {
     "name": "stdout",
     "output_type": "stream",
     "text": [
      "[0. 0. 0. 0. 0. 0. 0. 0. 0. 0.]\n"
     ]
    }
   ],
   "source": [
    "#2. Create a null vector of size 10\n",
    "vec = np.zeros(10)\n",
    "print(vec)"
   ]
  },
  {
   "cell_type": "code",
   "execution_count": 4,
   "id": "hearing-elizabeth",
   "metadata": {},
   "outputs": [
    {
     "name": "stdout",
     "output_type": "stream",
     "text": [
      "<class 'numpy.ndarray'>\n",
      "int32\n"
     ]
    }
   ],
   "source": [
    "#3. Create Simple 1-D array and check type and check data types in array\n",
    "\n",
    "ar = np.array([1, 2, 3, 4])\n",
    "\n",
    "print(type(ar))\n",
    "print(ar.dtype)"
   ]
  },
  {
   "cell_type": "code",
   "execution_count": 6,
   "id": "comprehensive-throat",
   "metadata": {},
   "outputs": [
    {
     "name": "stdout",
     "output_type": "stream",
     "text": [
      "1\n",
      "\n",
      "int32\n",
      "4\n",
      "\n",
      "20\n",
      "\n",
      "20\n",
      "\n"
     ]
    }
   ],
   "source": [
    "#4. How to find number of dimensions, bytes per element and bytes of memory used?\n",
    "\n",
    "a = np.array([1, 2,3 , 4, 5])\n",
    "\n",
    "print(a.ndim)        #number of dimensions\n",
    "print()\n",
    "\n",
    "print(a.dtype)\n",
    "\n",
    "print(a.itemsize)    #no. of bytes per element\n",
    "print()\n",
    "\n",
    "print(a.nbytes)          #bytes of memory used\n",
    "print()\n",
    "\n",
    "print(a.itemsize * a.size)      #bytes of memory used\n",
    "print()"
   ]
  },
  {
   "cell_type": "code",
   "execution_count": 7,
   "id": "quality-bouquet",
   "metadata": {},
   "outputs": [
    {
     "name": "stdout",
     "output_type": "stream",
     "text": [
      "[0. 0. 0. 0. 1. 0. 0. 0. 0. 0.]\n"
     ]
    }
   ],
   "source": [
    "#5. Create a null vector of size 10 but the fifth value which is 1\n",
    "\n",
    "a = np.zeros(10)\n",
    "a[4] = 1\n",
    "\n",
    "print(a)"
   ]
  },
  {
   "cell_type": "code",
   "execution_count": 14,
   "id": "little-victory",
   "metadata": {},
   "outputs": [
    {
     "name": "stdout",
     "output_type": "stream",
     "text": [
      "[10 11 12 13 14 15 16 17 18 19 20 21 22 23 24 25 26 27 28 29 30 31 32 33\n",
      " 34 35 36 37 38 39 40 41 42 43 44 45 46 47 48 49]\n"
     ]
    }
   ],
   "source": [
    "#6. Create a vector with values ranging from 10 to 49\n",
    "\n",
    "a = np.arange(10, 50)\n",
    "\n",
    "print(a)"
   ]
  },
  {
   "cell_type": "code",
   "execution_count": 10,
   "id": "cooked-ontario",
   "metadata": {},
   "outputs": [
    {
     "name": "stdout",
     "output_type": "stream",
     "text": [
      "[10 11 12 13 14 15 16 17 18 19]\n",
      "\n",
      "[19 18 17 16 15 14 13 12 11 10]\n"
     ]
    }
   ],
   "source": [
    "#7. Reverse a vector (first element becomes last)\n",
    "\n",
    "a = np.arange(10, 20)\n",
    "\n",
    "print(a)\n",
    "print()\n",
    "a = a[::-1]\n",
    "print(a)"
   ]
  },
  {
   "cell_type": "code",
   "execution_count": 16,
   "id": "further-anger",
   "metadata": {},
   "outputs": [
    {
     "name": "stdout",
     "output_type": "stream",
     "text": [
      "[[0 1 2]\n",
      " [3 4 5]\n",
      " [6 7 8]]\n"
     ]
    }
   ],
   "source": [
    "#8. Create a 3x3 matrix with values ranging from 0 to 8\n",
    "\n",
    "a = np.arange(0, 9)\n",
    "a = a.reshape((3, 3))\n",
    "\n",
    "print(a)"
   ]
  },
  {
   "cell_type": "code",
   "execution_count": 12,
   "id": "center-contributor",
   "metadata": {},
   "outputs": [
    {
     "name": "stdout",
     "output_type": "stream",
     "text": [
      "(array([0, 1, 4], dtype=int64),)\n"
     ]
    }
   ],
   "source": [
    "#9. Find indices of non-zero elements from [1,2,0,0,4,0]\n",
    "\n",
    "a = np.array([1, 2, 0, 0, 4, 0])\n",
    "print(np.nonzero(a))"
   ]
  },
  {
   "cell_type": "code",
   "execution_count": 15,
   "id": "organized-pulse",
   "metadata": {},
   "outputs": [
    {
     "name": "stdout",
     "output_type": "stream",
     "text": [
      "[[1. 1. 1.]\n",
      " [1. 1. 1.]\n",
      " [1. 1. 1.]]\n",
      "[[1. 0. 0.]\n",
      " [0. 1. 0.]\n",
      " [0. 0. 1.]]\n",
      "\n",
      "[[1. 0. 0.]\n",
      " [0. 1. 0.]\n",
      " [0. 0. 1.]]\n",
      "\n"
     ]
    }
   ],
   "source": [
    "#10. Create a 3x3 identity matrix\n",
    "# a = np.ones((3, 3))\n",
    "# print(a)\n",
    "\n",
    "print(np.identity(3))\n",
    "print()\n",
    "\n",
    "print(np.eye(3, 3))\n",
    "print()"
   ]
  },
  {
   "cell_type": "code",
   "execution_count": 16,
   "id": "excellent-chuck",
   "metadata": {},
   "outputs": [
    {
     "name": "stdout",
     "output_type": "stream",
     "text": [
      "[[[0.65984929 0.37500733 0.13157182]\n",
      "  [0.6102008  0.38840435 0.92382247]\n",
      "  [0.49427801 0.07297413 0.74149348]]\n",
      "\n",
      " [[0.94763911 0.79792956 0.05345261]\n",
      "  [0.43627081 0.72084237 0.50335566]\n",
      "  [0.26004932 0.87402519 0.05080944]]\n",
      "\n",
      " [[0.83066215 0.01451791 0.61085439]\n",
      "  [0.31241762 0.29941625 0.64790997]\n",
      "  [0.10739246 0.54468599 0.56474372]]]\n"
     ]
    }
   ],
   "source": [
    "#11. Create a 3x3x3 array with random values\n",
    "\n",
    "print(np.random.random((3, 3, 3)))"
   ]
  },
  {
   "cell_type": "code",
   "execution_count": 19,
   "id": "photographic-confidence",
   "metadata": {},
   "outputs": [
    {
     "name": "stdout",
     "output_type": "stream",
     "text": [
      "[[0.96999827 0.27255525 0.89226162 0.8955081  0.54769629 0.92592089\n",
      "  0.36109986 0.15815639 0.36399656 0.37044648]\n",
      " [0.22011069 0.80126523 0.62938493 0.43646321 0.57258976 0.30844927\n",
      "  0.18711054 0.49544339 0.14482522 0.20577074]\n",
      " [0.04221131 0.7237215  0.69412711 0.18327379 0.21551272 0.65517126\n",
      "  0.3987866  0.95716965 0.59233989 0.48019027]\n",
      " [0.24488822 0.26513859 0.08637317 0.73484801 0.24133068 0.67824725\n",
      "  0.89851439 0.40775108 0.51431091 0.63419789]\n",
      " [0.6814409  0.87314658 0.62003276 0.43426349 0.41870636 0.38914529\n",
      "  0.57961508 0.92029967 0.2108323  0.58589531]\n",
      " [0.73514853 0.95092012 0.30690006 0.57454747 0.17145938 0.24333417\n",
      "  0.18405876 0.05576068 0.98114331 0.39250471]\n",
      " [0.16547571 0.69567692 0.11163217 0.96139867 0.89222348 0.14157544\n",
      "  0.83462474 0.99262245 0.93064661 0.12470009]\n",
      " [0.06495344 0.61143909 0.91798847 0.90096438 0.04234812 0.5679651\n",
      "  0.60030894 0.38323458 0.74806596 0.22263039]\n",
      " [0.74188277 0.29465906 0.45891786 0.80519674 0.86638846 0.58923514\n",
      "  0.90318542 0.13107831 0.75289002 0.68161042]\n",
      " [0.10812646 0.09457499 0.38956976 0.34682753 0.49567174 0.85545242\n",
      "  0.75918572 0.18177277 0.50998643 0.05219575]]\n",
      "\n",
      "0.9926224499648535\n",
      "\n",
      "0.042211311395159545\n"
     ]
    }
   ],
   "source": [
    "# Create a 10x10 array with random values and find the minimum and maximum values\n",
    "\n",
    "a = np.random.random((10, 10))\n",
    "\n",
    "print(a)\n",
    "print()\n",
    "\n",
    "print(np.max(a))\n",
    "print()\n",
    "\n",
    "print(np.min(a))"
   ]
  },
  {
   "cell_type": "code",
   "execution_count": 21,
   "id": "martial-command",
   "metadata": {},
   "outputs": [
    {
     "name": "stdout",
     "output_type": "stream",
     "text": [
      "[6.22656285e-01 3.93571173e-01 3.64617029e-01 2.06208513e-01\n",
      " 6.68726658e-01 4.84449618e-01 6.85797955e-01 2.25234205e-04\n",
      " 2.42160520e-01 1.37883480e-01 3.68176863e-01 2.75287618e-01\n",
      " 4.44583396e-03 3.19676923e-01 2.26212084e-01 5.05075361e-01\n",
      " 9.44433976e-01 9.64394624e-01 2.42840416e-01 8.96992541e-01\n",
      " 5.27807492e-01 3.44540269e-02 8.29549495e-01 3.04335887e-01\n",
      " 6.96071423e-01 2.76400138e-01 7.28971433e-01 9.51788170e-01\n",
      " 6.55790080e-01 2.76198196e-01]\n",
      "\n",
      "0.461173301571291\n"
     ]
    }
   ],
   "source": [
    "# Create a random vector of size 30 and find the mean value\n",
    "\n",
    "a = np.random.random((30))\n",
    "\n",
    "print(a)\n",
    "print()\n",
    "\n",
    "print(np.mean(a))"
   ]
  },
  {
   "cell_type": "code",
   "execution_count": 30,
   "id": "peaceful-notification",
   "metadata": {},
   "outputs": [
    {
     "name": "stdout",
     "output_type": "stream",
     "text": [
      "[[1. 1. 1. 1. 1.]\n",
      " [1. 0. 0. 0. 1.]\n",
      " [1. 0. 0. 0. 1.]\n",
      " [1. 0. 0. 0. 1.]\n",
      " [1. 1. 1. 1. 1.]]\n",
      "\n",
      "[[1. 1. 1. 1.]\n",
      " [1. 0. 0. 1.]\n",
      " [1. 0. 0. 1.]\n",
      " [1. 1. 1. 1.]]\n"
     ]
    }
   ],
   "source": [
    "# Create a 2d array with 1 on the border and 0 inside\n",
    "\n",
    "a = np.zeros((3, 3))\n",
    "a = np.pad(a, 1, 'constant', constant_values=(1))\n",
    "print(a)\n",
    "print()\n",
    "\n",
    "b = np.ones((4, 4))\n",
    "b[1:3, 1:3] = 0\n",
    "print(b)"
   ]
  },
  {
   "cell_type": "code",
   "execution_count": 47,
   "id": "accompanied-glenn",
   "metadata": {},
   "outputs": [
    {
     "name": "stdout",
     "output_type": "stream",
     "text": [
      "[[0 1 2 3 4]\n",
      " [5 6 7 8 9]]\n",
      "[[0 0 0 0 0 0 0]\n",
      " [0 0 1 2 3 4 0]\n",
      " [0 5 6 7 8 9 0]\n",
      " [0 0 0 0 0 0 0]]\n"
     ]
    }
   ],
   "source": [
    "# How to add a border (filled with 0's) around an existing array? \n",
    "\n",
    "a = np.arange(10)\n",
    "a = a.reshape((2, 5))\n",
    "\n",
    "print(a)\n",
    "\n",
    "a = np.pad(a, 1, 'constant')\n",
    "\n",
    "print(a)\n"
   ]
  },
  {
   "cell_type": "code",
   "execution_count": 33,
   "id": "adult-bowling",
   "metadata": {},
   "outputs": [
    {
     "name": "stdout",
     "output_type": "stream",
     "text": [
      "13\n",
      "\n",
      "[1 2 3 4 5 6 7]\n",
      "\n",
      "[ 3 10]\n",
      "\n",
      "[2 4 6]\n",
      "\n",
      "[[ 1  2  3  4  5  6  7]\n",
      " [ 8  9 10 11 12 20 14]]\n"
     ]
    }
   ],
   "source": [
    "# How to Accessing/Changing specific elements, rows, columns, etc in Numpy array?\n",
    "\n",
    "# Example -\n",
    "# [[ 1 2 3 4 5 6 7] [ 8 9 10 11 12 13 14]]\n",
    "\n",
    "# Get 13, get first row only, get 3rd column only, get [2, 4, 6], replace 13 by 20\n",
    "\n",
    "a = np.array([[1, 2, 3, 4, 5, 6, 7],  [8, 9, 10, 11, 12, 13, 14]])\n",
    "\n",
    "print(a[1, 5])      #to get the element 13 only\n",
    "print()\n",
    "\n",
    "print(a[0, :])      #to get the 1st row only\n",
    "print()\n",
    "\n",
    "print(a[:, 2])      #to get the 2nd column only\n",
    "print()\n",
    "\n",
    "print(a[0, [1, 3, 5]])      #to get [2, 4, 6]\n",
    "# print(a[0, 1::2])\n",
    "print()\n",
    "\n",
    "a[1, 5] = 20\n",
    "print(a)"
   ]
  },
  {
   "cell_type": "code",
   "execution_count": 37,
   "id": "certified-education",
   "metadata": {},
   "outputs": [
    {
     "name": "stdout",
     "output_type": "stream",
     "text": [
      "[[0 1]\n",
      " [2 3]\n",
      " [4 5]\n",
      " [6 7]\n",
      " [8 9]]\n"
     ]
    }
   ],
   "source": [
    "# How to Convert a 1D array to a 2D array with 2 rows\n",
    "a = np.arange(10)\n",
    "a = a.reshape(5, 2)\n",
    "\n",
    "print(a)"
   ]
  },
  {
   "cell_type": "code",
   "execution_count": 40,
   "id": "graphic-disabled",
   "metadata": {},
   "outputs": [
    {
     "name": "stdout",
     "output_type": "stream",
     "text": [
      "[1 1 1 2 2 2 3 3 3 1 2 3 1 2 3 1 2 3]\n"
     ]
    }
   ],
   "source": [
    "# Create the following pattern without hardcoding. Use only numpy functions and the below input array a.\n",
    "\n",
    "# Input:\n",
    "\n",
    "# a = np.array([1,2,3])`\n",
    "# Desired Output:\n",
    "\n",
    "# #> array([1, 1, 1, 2, 2, 2, 3, 3, 3, 1, 2, 3, 1, 2, 3, 1, 2, 3])\n",
    "\n",
    "a = np.array([1, 2, 3])\n",
    "\n",
    "a = np.append(np.repeat(a, 3), np.tile(a, 3))\n",
    "\n",
    "print(a)\n"
   ]
  },
  {
   "cell_type": "code",
   "execution_count": 19,
   "id": "healthy-enhancement",
   "metadata": {},
   "outputs": [
    {
     "name": "stdout",
     "output_type": "stream",
     "text": [
      "48000\n",
      "4000\n"
     ]
    }
   ],
   "source": [
    "# Write a program to show how Numpy taking less memory compared to Python List?\n",
    "\n",
    "import sys\n",
    "\n",
    "l = range(1000)\n",
    "print(sys.getsizeof(l) * len(l))\n",
    "\n",
    "a = np.arange(1000)\n",
    "print(a.itemsize * a.size)"
   ]
  },
  {
   "cell_type": "code",
   "execution_count": 44,
   "id": "identical-perth",
   "metadata": {},
   "outputs": [
    {
     "name": "stdout",
     "output_type": "stream",
     "text": [
      "time taken by list for multiplication  0.29988598823547363  seconds\n",
      "time taken by numpy array multiplication  0.0  seconds\n"
     ]
    }
   ],
   "source": [
    "# Write a program to show how Numpy taking less time compared to Python List?\n",
    "\n",
    "import sys\n",
    "import time\n",
    "\n",
    "size = 1000000\n",
    "\n",
    "l1 = range(size)\n",
    "l2 = range(size)\n",
    "\n",
    "start = time.time()\n",
    "resl = [(x*y) for x, y in zip(l1, l2)]\n",
    "print(\"time taken by list for multiplication \", (time.time() - start), \" seconds\")\n",
    "\n",
    "\n",
    "a1 = np.arange(size)\n",
    "a2 = np.arange(size)\n",
    "start = time.time()\n",
    "res = a1*a2\n",
    "print(\"time taken by numpy array multiplication \", (time.time() - start), \" seconds\")\n",
    "\n"
   ]
  },
  {
   "cell_type": "code",
   "execution_count": null,
   "id": "adjustable-visiting",
   "metadata": {},
   "outputs": [],
   "source": []
  }
 ],
 "metadata": {
  "kernelspec": {
   "display_name": "Python 3",
   "language": "python",
   "name": "python3"
  },
  "language_info": {
   "codemirror_mode": {
    "name": "ipython",
    "version": 3
   },
   "file_extension": ".py",
   "mimetype": "text/x-python",
   "name": "python",
   "nbconvert_exporter": "python",
   "pygments_lexer": "ipython3",
   "version": "3.8.1"
  }
 },
 "nbformat": 4,
 "nbformat_minor": 5
}
