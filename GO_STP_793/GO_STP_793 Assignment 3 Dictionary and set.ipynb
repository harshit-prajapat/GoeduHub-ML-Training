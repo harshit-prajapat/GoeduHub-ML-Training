{
 "cells": [
  {
   "cell_type": "code",
   "execution_count": 6,
   "id": "amended-syracuse",
   "metadata": {},
   "outputs": [
    {
     "name": "stdout",
     "output_type": "stream",
     "text": [
      "Ascending Order Is :  [('C', 2), ('E', 3), ('B', 4), ('A', 5), ('D', 6)]\n",
      "Descending Order Is :  [('D', 6), ('A', 5), ('B', 4), ('E', 3), ('C', 2)]\n"
     ]
    }
   ],
   "source": [
    "# Q.1 Write a Python Program to sort (ascending and descending) a dictionary by value. \n",
    "\n",
    "import operator\n",
    "# dict1 = {1:2, 2:4, 5:1, 6:0, 7:8, 9:3}\n",
    "x = {'A':5,'B':4,'C':2,'D':6,'E':3}\n",
    "asc = sorted(x.items(), key = operator.itemgetter(1))\n",
    "print('Ascending Order Is : ',asc)\n",
    "desc = sorted(x.items(), key = operator.itemgetter(1), reverse=True)\n",
    "print('Descending Order Is : ',desc)"
   ]
  },
  {
   "cell_type": "code",
   "execution_count": 8,
   "id": "desirable-friend",
   "metadata": {},
   "outputs": [
    {
     "name": "stdout",
     "output_type": "stream",
     "text": [
      "{0: 10, 1: 20, 2: 30, 3: 40}\n"
     ]
    }
   ],
   "source": [
    "# Q.2 Write a Python Program to add a key to a dictionary. \n",
    "\n",
    "# Sample Dictionary : {0: 10, 1: 20}\n",
    "# Expected Result : {0: 10, 1: 20, 2: 30}\n",
    "\n",
    "di = {0:10, 1:20}\n",
    "\n",
    "di[2] = 30\n",
    "di.update({3:40})\n",
    "\n",
    "print(di)"
   ]
  },
  {
   "cell_type": "code",
   "execution_count": 10,
   "id": "loved-depression",
   "metadata": {},
   "outputs": [
    {
     "name": "stdout",
     "output_type": "stream",
     "text": [
      "enter city namekota\n",
      "enter temp of city40\n",
      "enter more values y/n\n",
      "y\n",
      "enter city namejaipur\n",
      "enter temp of city36\n",
      "enter more values y/n\n",
      "n\n",
      "enter city name to find temp\n",
      "jaipur\n",
      "the temp of  jaipur is 36\n"
     ]
    }
   ],
   "source": [
    "# Q.3 Write a  program asks for City name and Temperature and builds a dictionary using that Later on you can input City \n",
    "# name and it will tell you the Temperature of that City.\n",
    "\n",
    "di = {}\n",
    "\n",
    "ch = 'y'\n",
    "while(ch == 'y'):\n",
    "    city = input(\"enter city name\")\n",
    "    temp = int(input(\"enter temp of city\"))\n",
    "    di[city] = temp\n",
    "    print(\"enter more values y/n\")\n",
    "    ch = input()\n",
    "    \n",
    "    \n",
    "print(\"enter city name to find temp\")\n",
    "name = input()\n",
    "\n",
    "print(\"the temp of \", name, end = \" is \")\n",
    "print(di[name])\n",
    "    "
   ]
  },
  {
   "cell_type": "code",
   "execution_count": 9,
   "id": "referenced-sudan",
   "metadata": {},
   "outputs": [
    {
     "name": "stdout",
     "output_type": "stream",
     "text": [
      "[{'color_name': 'Black', 'color_code': '#000000'}, {'color_name': 'Red', 'color_code': '#FF0000'}, {'color_name': 'Maroon', 'color_code': '#800000'}, {'color_name': 'Yellow', 'color_code': '#FFFF00'}]\n",
      "[{'Name': 'Sathya', 'Age': 23}, {'Name': 'Yuvi', 'Age': 26}, {'Name': 'Sathish', 'Age': 24}, {'Name': 'Vignesh', 'Age': 22}, {'Name': 'Prakash', 'Age': 23}]\n"
     ]
    }
   ],
   "source": [
    "# Q. 4 Write a Python program to convert list to list of dictionaries.\n",
    "\n",
    "# Sample lists: [\"Black\", \"Red\", \"Maroon\", \"Yellow\"], [\"#000000\", \"#FF0000\", \"#800000\", \"#FFFF00\"]\n",
    "\n",
    "# Expected Output: [{'color_name': 'Black', 'color_code': '#000000'}, \n",
    "#                     {'color_name': 'Red', 'color_code': '#FF0000'}, \n",
    "#                     {'color_name': 'Maroon', 'color_code': '#800000'}, \n",
    "#                     {'color_name': 'Yellow', 'color_code': '#FFFF00'}]\n",
    "\n",
    "\n",
    "color = [\"Black\", \"Red\", \"Maroon\", \"Yellow\"]\n",
    "code = [\"#000000\", \"#FF0000\", \"#800000\", \"#FFFF00\"]\n",
    "\n",
    "li = []\n",
    "\n",
    "for i in range(len(color)):\n",
    "    di = {}\n",
    "    di['color_name'] = color[i]\n",
    "    di['color_code'] = code[i]\n",
    "    li.append(di)\n",
    "    \n",
    "print(li)\n",
    "\n",
    "list1 = [\"Sathya\",\"Yuvi\",\"Sathish\",\"Vignesh\",\"Prakash\",]\n",
    "list2 = [23,26,24,22,23]\n",
    "print([{'Name': f, 'Age': c} for f, c in zip(list1, list2)])"
   ]
  },
  {
   "cell_type": "code",
   "execution_count": 23,
   "id": "brown-monthly",
   "metadata": {},
   "outputs": [
    {
     "name": "stdout",
     "output_type": "stream",
     "text": [
      "*******menu*******\n",
      "\t1. print \n",
      "        2. add\n",
      "        3. remove\n",
      "        4. query\n",
      "        enter the number of option 1, 2, 3 or 4\n",
      "4\n",
      "enter employee name to querySmith\n",
      "13\n",
      "want to query more y/n\n",
      "y\n",
      "*******menu*******\n",
      "\t1. print \n",
      "        2. add\n",
      "        3. remove\n",
      "        4. query\n",
      "        enter the number of option 1, 2, 3 or 4\n",
      "3\n",
      "enter name to remove employeeSmith\n",
      "John ==> 14\n",
      "Alice ==> 32\n",
      "Daniel ==> 21\n",
      "want to query more y/n\n",
      "n\n",
      "program ends\n"
     ]
    }
   ],
   "source": [
    "# Q. 5 We have following information on Employees and their Salary (Salary is in lakhs),\n",
    "\n",
    "# Employee\tSalary\n",
    "# John\t14\n",
    "# Smith\t13\n",
    "# Alice\t32\n",
    "# Daneil\t21\n",
    "\n",
    "\n",
    "# Using above create a dictionary of Employees and their Salary\n",
    "# Write a program that asks user for three type of inputs,\n",
    "\n",
    "# print: if user enter print then it should print all Employees with their Salary in this format,\n",
    "# John ==>14\n",
    "# Smith ==>13\n",
    "# Alice ==>32\n",
    "#  Daneil ==>21\n",
    "\n",
    "\n",
    "# add: if user input adds then it should further ask for an Employee name to add. \n",
    "# If Employee already exists in our dataset then it should print that it exists and do nothing. \n",
    "# If it doesn't then it asks for Salary and add that new Employee/Salary in our dictionary and print it\n",
    "\n",
    "\n",
    "# remove: when user inputs remove it should ask for an Employee to remove. \n",
    "# If an Employee exists in our dictionary then remove it and print a new dictionary using format shown above in (a). \n",
    "# Else print that Employee doesn't exist!\n",
    "\n",
    "\n",
    "# query: on this again ask the user for which Employee he or she wants to query. When a user inputs that Employee it will \n",
    "# print the Salary of that Employee.\n",
    "\n",
    "\n",
    "def printemp(dic):\n",
    "    for k, v in dic.items():\n",
    "        print(k, '==>', v)\n",
    "\n",
    "def addemp(dic):\n",
    "    name = input(\"enter new employee name\")\n",
    "    if name in dic.keys():\n",
    "        print(\"employee already exists\")\n",
    "    else:\n",
    "        sal = int(input(\"enter salary in lakhs\"))\n",
    "        dic[name] = sal\n",
    "        \n",
    "def removeemp(dic):\n",
    "    name = input(\"enter name to remove employee\")\n",
    "    if name not in dic.keys():\n",
    "        print(\"employee does not exists\")\n",
    "    else:\n",
    "        dic.pop(name)\n",
    "        printemp(dic)\n",
    "        \n",
    "def queryemp(dic):\n",
    "    name = input(\"enter employee name to query\")\n",
    "    print(dic.get(name))\n",
    "    \n",
    "\n",
    "emp = {'John': 14, 'Smith': 13, 'Alice': 32, 'Daniel': 21}\n",
    "\n",
    "def menu():\n",
    "    print(\"*******menu*******\")\n",
    "    print(\"\\t1. print \\n\\\n",
    "        2. add\\n\\\n",
    "        3. remove\\n\\\n",
    "        4. query\\n\\\n",
    "        enter the number of option 1, 2, 3 or 4\")\n",
    "\n",
    "    ch = int(input())\n",
    "    flag = 1\n",
    "    if(ch == 1):\n",
    "        printemp(emp)\n",
    "    elif(ch == 2):\n",
    "        addemp(emp)\n",
    "    elif(ch == 3):\n",
    "        removeemp(emp)\n",
    "    elif(ch == 4):\n",
    "        queryemp(emp)\n",
    "    print(\"want to query more y/n\")\n",
    "    if(input() == 'y'):\n",
    "        return 1\n",
    "    else:\n",
    "        return 0\n",
    "        \n",
    "        \n",
    "if __name__ == '__main__':\n",
    "    while(menu()):\n",
    "        pass\n",
    "    print(\"program ends\")\n",
    "    "
   ]
  },
  {
   "cell_type": "code",
   "execution_count": 24,
   "id": "egyptian-identity",
   "metadata": {},
   "outputs": [],
   "source": [
    "## Questions on set"
   ]
  },
  {
   "cell_type": "code",
   "execution_count": 11,
   "id": "indie-france",
   "metadata": {},
   "outputs": [
    {
     "name": "stdout",
     "output_type": "stream",
     "text": [
      "{1, 2, 3, 4, 5, 6, 7}\n",
      "frozenset({1, 2, 3, 4, 5, 6, 7})\n"
     ]
    }
   ],
   "source": [
    "# Q.1 What is the difference between a set and a frozenset? Create any set and try to use frozenset(setname).\n",
    "\n",
    "set1 = {1, 2, 3, 4, 5, 5, 5, 5, 6, 6, 6, 6,7}\n",
    "print(set1)\n",
    "\n",
    "frzst = frozenset(set1)\n",
    "\n",
    "print(frzst)"
   ]
  },
  {
   "cell_type": "code",
   "execution_count": 14,
   "id": "oriental-cursor",
   "metadata": {},
   "outputs": [
    {
     "name": "stdout",
     "output_type": "stream",
     "text": [
      "{10, 20, 30}\n",
      "{10, 20, 30}\n"
     ]
    }
   ],
   "source": [
    "# Q.2 Find the elements in a given set that are not in another set\n",
    "\n",
    "#     set1 = {10,20,30,40,50}\n",
    "\n",
    "#     set2 = {40,50,60,70,80}\n",
    "\n",
    "#  Difference between set1 and set2 is {10,20,30}\n",
    "\n",
    "set1 = {10,20,30,40,50}\n",
    "\n",
    "set2 = {40,50,60,70,80}\n",
    "\n",
    "print(set1 - set2)\n",
    "print(set1.difference(set2))"
   ]
  },
  {
   "cell_type": "code",
   "execution_count": null,
   "id": "chemical-above",
   "metadata": {},
   "outputs": [],
   "source": []
  }
 ],
 "metadata": {
  "kernelspec": {
   "display_name": "Python 3",
   "language": "python",
   "name": "python3"
  },
  "language_info": {
   "codemirror_mode": {
    "name": "ipython",
    "version": 3
   },
   "file_extension": ".py",
   "mimetype": "text/x-python",
   "name": "python",
   "nbconvert_exporter": "python",
   "pygments_lexer": "ipython3",
   "version": "3.8.1"
  }
 },
 "nbformat": 4,
 "nbformat_minor": 5
}
