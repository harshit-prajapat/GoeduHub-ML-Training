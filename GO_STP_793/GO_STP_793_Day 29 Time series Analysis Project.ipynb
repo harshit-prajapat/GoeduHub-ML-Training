{
 "cells": [
  {
   "cell_type": "markdown",
   "id": "sustained-sullivan",
   "metadata": {},
   "source": [
    "# Time Series Analysis Using ARIMA\n",
    "\n",
    "time series forecasting can be done using stats-models\n",
    "in time series prediction, prediction wil be based on just previous data\n",
    "\n",
    "ARIMA - auto regression integrated moving average\n",
    "\n",
    "auto regression (p) - \n",
    "\n",
    "moving average (q) - \n",
    "\n",
    "Integrated (d) - differentiating part, \n",
    "\n",
    "S-ARIMA\n",
    "S means Seasonal - just what it implies i.e. lets say in summer electronics sales is high, in rainy season it is not, so that is seasonal.\n",
    "E.G. sales of ice creams"
   ]
  },
  {
   "cell_type": "code",
   "execution_count": 1,
   "id": "overhead-jacksonville",
   "metadata": {},
   "outputs": [],
   "source": [
    "import numpy as np\n",
    "import pandas as pd\n",
    "import matplotlib.pyplot as plt\n",
    "%matplotlib inline"
   ]
  },
  {
   "cell_type": "code",
   "execution_count": 9,
   "id": "beautiful-membrane",
   "metadata": {},
   "outputs": [
    {
     "data": {
      "text/html": [
       "<div>\n",
       "<style scoped>\n",
       "    .dataframe tbody tr th:only-of-type {\n",
       "        vertical-align: middle;\n",
       "    }\n",
       "\n",
       "    .dataframe tbody tr th {\n",
       "        vertical-align: top;\n",
       "    }\n",
       "\n",
       "    .dataframe thead th {\n",
       "        text-align: right;\n",
       "    }\n",
       "</style>\n",
       "<table border=\"1\" class=\"dataframe\">\n",
       "  <thead>\n",
       "    <tr style=\"text-align: right;\">\n",
       "      <th></th>\n",
       "      <th>Month</th>\n",
       "      <th>Sales</th>\n",
       "    </tr>\n",
       "  </thead>\n",
       "  <tbody>\n",
       "    <tr>\n",
       "      <th>0</th>\n",
       "      <td>1960-01</td>\n",
       "      <td>648</td>\n",
       "    </tr>\n",
       "    <tr>\n",
       "      <th>1</th>\n",
       "      <td>1960-02</td>\n",
       "      <td>646</td>\n",
       "    </tr>\n",
       "    <tr>\n",
       "      <th>2</th>\n",
       "      <td>1960-03</td>\n",
       "      <td>639</td>\n",
       "    </tr>\n",
       "    <tr>\n",
       "      <th>3</th>\n",
       "      <td>1960-04</td>\n",
       "      <td>654</td>\n",
       "    </tr>\n",
       "    <tr>\n",
       "      <th>4</th>\n",
       "      <td>1960-05</td>\n",
       "      <td>630</td>\n",
       "    </tr>\n",
       "  </tbody>\n",
       "</table>\n",
       "</div>"
      ],
      "text/plain": [
       "     Month Sales\n",
       "0  1960-01   648\n",
       "1  1960-02   646\n",
       "2  1960-03   639\n",
       "3  1960-04   654\n",
       "4  1960-05   630"
      ]
     },
     "execution_count": 9,
     "metadata": {},
     "output_type": "execute_result"
    }
   ],
   "source": [
    "data = pd.read_csv(\"./Datasets/portland.csv\")\n",
    "data.columns = ['Month', 'Sales']\n",
    "data.head()"
   ]
  },
  {
   "cell_type": "code",
   "execution_count": 10,
   "id": "hairy-reasoning",
   "metadata": {},
   "outputs": [
    {
     "data": {
      "text/plain": [
       "(115, 2)"
      ]
     },
     "execution_count": 10,
     "metadata": {},
     "output_type": "execute_result"
    }
   ],
   "source": [
    "data.shape"
   ]
  },
  {
   "cell_type": "code",
   "execution_count": 11,
   "id": "developmental-india",
   "metadata": {},
   "outputs": [
    {
     "data": {
      "text/plain": [
       "Month    0\n",
       "Sales    0\n",
       "dtype: int64"
      ]
     },
     "execution_count": 11,
     "metadata": {},
     "output_type": "execute_result"
    }
   ],
   "source": [
    "data.isnull().sum()"
   ]
  },
  {
   "cell_type": "code",
   "execution_count": 12,
   "id": "prerequisite-promise",
   "metadata": {},
   "outputs": [
    {
     "name": "stdout",
     "output_type": "stream",
     "text": [
      "<class 'pandas.core.frame.DataFrame'>\n",
      "RangeIndex: 115 entries, 0 to 114\n",
      "Data columns (total 2 columns):\n",
      " #   Column  Non-Null Count  Dtype \n",
      "---  ------  --------------  ----- \n",
      " 0   Month   115 non-null    object\n",
      " 1   Sales   115 non-null    object\n",
      "dtypes: object(2)\n",
      "memory usage: 1.9+ KB\n"
     ]
    }
   ],
   "source": [
    "data.info()"
   ]
  },
  {
   "cell_type": "code",
   "execution_count": 13,
   "id": "fuzzy-harris",
   "metadata": {},
   "outputs": [],
   "source": [
    "#converting date to a proper format\n",
    "data['Month'] = pd.to_datetime(data['Month'], errors='coerce', format='%Y-%m')"
   ]
  },
  {
   "cell_type": "code",
   "execution_count": 8,
   "id": "attractive-bowling",
   "metadata": {},
   "outputs": [
    {
     "data": {
      "text/html": [
       "<div>\n",
       "<style scoped>\n",
       "    .dataframe tbody tr th:only-of-type {\n",
       "        vertical-align: middle;\n",
       "    }\n",
       "\n",
       "    .dataframe tbody tr th {\n",
       "        vertical-align: top;\n",
       "    }\n",
       "\n",
       "    .dataframe thead th {\n",
       "        text-align: right;\n",
       "    }\n",
       "</style>\n",
       "<table border=\"1\" class=\"dataframe\">\n",
       "  <thead>\n",
       "    <tr style=\"text-align: right;\">\n",
       "      <th></th>\n",
       "      <th>Month</th>\n",
       "      <th>Portland Oregon average monthly bus ridership (/100) January 1973 through June 1982, n=114</th>\n",
       "    </tr>\n",
       "  </thead>\n",
       "  <tbody>\n",
       "    <tr>\n",
       "      <th>0</th>\n",
       "      <td>1960-01-01</td>\n",
       "      <td>648</td>\n",
       "    </tr>\n",
       "    <tr>\n",
       "      <th>1</th>\n",
       "      <td>1960-02-01</td>\n",
       "      <td>646</td>\n",
       "    </tr>\n",
       "    <tr>\n",
       "      <th>2</th>\n",
       "      <td>1960-03-01</td>\n",
       "      <td>639</td>\n",
       "    </tr>\n",
       "    <tr>\n",
       "      <th>3</th>\n",
       "      <td>1960-04-01</td>\n",
       "      <td>654</td>\n",
       "    </tr>\n",
       "    <tr>\n",
       "      <th>4</th>\n",
       "      <td>1960-05-01</td>\n",
       "      <td>630</td>\n",
       "    </tr>\n",
       "    <tr>\n",
       "      <th>...</th>\n",
       "      <td>...</td>\n",
       "      <td>...</td>\n",
       "    </tr>\n",
       "    <tr>\n",
       "      <th>110</th>\n",
       "      <td>1969-03-01</td>\n",
       "      <td>1419</td>\n",
       "    </tr>\n",
       "    <tr>\n",
       "      <th>111</th>\n",
       "      <td>1969-04-01</td>\n",
       "      <td>1432</td>\n",
       "    </tr>\n",
       "    <tr>\n",
       "      <th>112</th>\n",
       "      <td>1969-05-01</td>\n",
       "      <td>1394</td>\n",
       "    </tr>\n",
       "    <tr>\n",
       "      <th>113</th>\n",
       "      <td>1969-06-01</td>\n",
       "      <td>1327</td>\n",
       "    </tr>\n",
       "    <tr>\n",
       "      <th>114</th>\n",
       "      <td>NaT</td>\n",
       "      <td>n=114</td>\n",
       "    </tr>\n",
       "  </tbody>\n",
       "</table>\n",
       "<p>115 rows × 2 columns</p>\n",
       "</div>"
      ],
      "text/plain": [
       "         Month  \\\n",
       "0   1960-01-01   \n",
       "1   1960-02-01   \n",
       "2   1960-03-01   \n",
       "3   1960-04-01   \n",
       "4   1960-05-01   \n",
       "..         ...   \n",
       "110 1969-03-01   \n",
       "111 1969-04-01   \n",
       "112 1969-05-01   \n",
       "113 1969-06-01   \n",
       "114        NaT   \n",
       "\n",
       "    Portland Oregon average monthly bus ridership (/100) January 1973 through June 1982, n=114  \n",
       "0                                                  648                                          \n",
       "1                                                  646                                          \n",
       "2                                                  639                                          \n",
       "3                                                  654                                          \n",
       "4                                                  630                                          \n",
       "..                                                 ...                                          \n",
       "110                                               1419                                          \n",
       "111                                               1432                                          \n",
       "112                                               1394                                          \n",
       "113                                               1327                                          \n",
       "114                                              n=114                                          \n",
       "\n",
       "[115 rows x 2 columns]"
      ]
     },
     "execution_count": 8,
     "metadata": {},
     "output_type": "execute_result"
    }
   ],
   "source": [
    "data"
   ]
  },
  {
   "cell_type": "code",
   "execution_count": 14,
   "id": "southwest-pride",
   "metadata": {},
   "outputs": [
    {
     "data": {
      "text/plain": [
       "Month    datetime64[ns]\n",
       "Sales            object\n",
       "dtype: object"
      ]
     },
     "execution_count": 14,
     "metadata": {},
     "output_type": "execute_result"
    }
   ],
   "source": [
    "data.dtypes"
   ]
  },
  {
   "cell_type": "code",
   "execution_count": 15,
   "id": "detailed-charleston",
   "metadata": {},
   "outputs": [
    {
     "data": {
      "text/plain": [
       "Month    1\n",
       "Sales    0\n",
       "dtype: int64"
      ]
     },
     "execution_count": 15,
     "metadata": {},
     "output_type": "execute_result"
    }
   ],
   "source": [
    "data.isnull().sum()"
   ]
  },
  {
   "cell_type": "code",
   "execution_count": 17,
   "id": "opposite-bristol",
   "metadata": {},
   "outputs": [],
   "source": [
    "#dropping the null values from the month column\n",
    "data.dropna(subset=['Month'], inplace = True)"
   ]
  },
  {
   "cell_type": "code",
   "execution_count": 18,
   "id": "individual-attachment",
   "metadata": {},
   "outputs": [
    {
     "data": {
      "text/plain": [
       "Month    0\n",
       "Sales    0\n",
       "dtype: int64"
      ]
     },
     "execution_count": 18,
     "metadata": {},
     "output_type": "execute_result"
    }
   ],
   "source": [
    "data.isnull().sum()"
   ]
  },
  {
   "cell_type": "code",
   "execution_count": 19,
   "id": "adjustable-ensemble",
   "metadata": {},
   "outputs": [
    {
     "data": {
      "text/html": [
       "<div>\n",
       "<style scoped>\n",
       "    .dataframe tbody tr th:only-of-type {\n",
       "        vertical-align: middle;\n",
       "    }\n",
       "\n",
       "    .dataframe tbody tr th {\n",
       "        vertical-align: top;\n",
       "    }\n",
       "\n",
       "    .dataframe thead th {\n",
       "        text-align: right;\n",
       "    }\n",
       "</style>\n",
       "<table border=\"1\" class=\"dataframe\">\n",
       "  <thead>\n",
       "    <tr style=\"text-align: right;\">\n",
       "      <th></th>\n",
       "      <th>Sales</th>\n",
       "    </tr>\n",
       "    <tr>\n",
       "      <th>Month</th>\n",
       "      <th></th>\n",
       "    </tr>\n",
       "  </thead>\n",
       "  <tbody>\n",
       "    <tr>\n",
       "      <th>1960-01-01</th>\n",
       "      <td>648</td>\n",
       "    </tr>\n",
       "    <tr>\n",
       "      <th>1960-02-01</th>\n",
       "      <td>646</td>\n",
       "    </tr>\n",
       "    <tr>\n",
       "      <th>1960-03-01</th>\n",
       "      <td>639</td>\n",
       "    </tr>\n",
       "    <tr>\n",
       "      <th>1960-04-01</th>\n",
       "      <td>654</td>\n",
       "    </tr>\n",
       "    <tr>\n",
       "      <th>1960-05-01</th>\n",
       "      <td>630</td>\n",
       "    </tr>\n",
       "  </tbody>\n",
       "</table>\n",
       "</div>"
      ],
      "text/plain": [
       "           Sales\n",
       "Month           \n",
       "1960-01-01   648\n",
       "1960-02-01   646\n",
       "1960-03-01   639\n",
       "1960-04-01   654\n",
       "1960-05-01   630"
      ]
     },
     "execution_count": 19,
     "metadata": {},
     "output_type": "execute_result"
    }
   ],
   "source": [
    "#converting month as the index for the data\n",
    "\n",
    "data.set_index('Month', inplace = True)\n",
    "data.head()"
   ]
  },
  {
   "cell_type": "code",
   "execution_count": 20,
   "id": "desperate-rescue",
   "metadata": {},
   "outputs": [
    {
     "data": {
      "text/plain": [
       "Sales    int32\n",
       "dtype: object"
      ]
     },
     "execution_count": 20,
     "metadata": {},
     "output_type": "execute_result"
    }
   ],
   "source": [
    "#converting the Sales columns from object type to integer\n",
    "data['Sales'] = data['Sales'].astype(int)\n",
    "data.dtypes"
   ]
  },
  {
   "cell_type": "code",
   "execution_count": 21,
   "id": "bound-millennium",
   "metadata": {},
   "outputs": [
    {
     "data": {
      "text/plain": [
       "<AxesSubplot:xlabel='Month'>"
      ]
     },
     "execution_count": 21,
     "metadata": {},
     "output_type": "execute_result"
    },
    {
     "data": {
      "image/png": "[encoded data removed]",
      "text/plain": [
       "<Figure size 432x288 with 1 Axes>"
      ]
     },
     "metadata": {
      "needs_background": "light"
     },
     "output_type": "display_data"
    }
   ],
   "source": [
    "data.plot()"
   ]
  },
  {
   "cell_type": "markdown",
   "id": "extraordinary-destiny",
   "metadata": {},
   "source": [
    "For ARIMA models Data must be stationary that is it must not change with time. i.e mean SD of the data must not change.\n",
    "\n",
    "1. We can check using plot if the dat ais changing or not\n",
    "2. We can use a statistical method called dickey-fuller method to check if data is stationary.\n",
    "\n",
    "Hypothesis testing - if a product is to be launched, the comapany will survey a subset of the population because a survey by the whole population is not possible.\n",
    "So lets say that the company surveys the 30% population in the area where it wants to sell the product and based on the outcomes of that survey, they decide and make plans for their product's sales. So this is called assumption hypothesis.\n",
    "\n",
    "Null hypothesis - this assumes that the upcoming results will be same as the previous results so they dont bother soing the survey.\n",
    "i.e. if a similar type of product is launched by the company it will assume that the new product will have the same success as the old one according to the previous survey.\n",
    "\n",
    "Alternate hypothesis - if there is no null hypothesis then there will be an alternate hypothesis. The assumption that resists the idea of null hypothesis.\n",
    "\n",
    "Rejection of hypothesis - rejection of hypothesis is when we sont have enough evidence to prove our hypothesis.\n",
    "\n",
    "The level of significance - \n",
    "\n",
    "p-value - \n",
    "\n",
    "For SARIMA data needs to be seasonal"
   ]
  },
  {
   "cell_type": "code",
   "execution_count": 24,
   "id": "intelligent-archive",
   "metadata": {},
   "outputs": [],
   "source": [
    "from statsmodels.tsa.stattools import adfuller\n"
   ]
  },
  {
   "cell_type": "code",
   "execution_count": 25,
   "id": "mineral-pearl",
   "metadata": {},
   "outputs": [
    {
     "name": "stdout",
     "output_type": "stream",
     "text": [
      "ADF statistics -1.53659714445316\n",
      "\n",
      "p-value 0.5153358797821733\n",
      "critical values 1028.4238367341432\n",
      "reject the null hypothesis, it means data is not stationary\n"
     ]
    }
   ],
   "source": [
    "x = data['Sales']\n",
    "result = adfuller(x)\n",
    "\n",
    "print(\"ADF statistics\", result[0])\n",
    "print(\"\\np-value\", result[1])\n",
    "print(\"critical values\", result[5])\n",
    "\n",
    "if result[1]<=0.05:\n",
    "    print(\"fail to reject null hypothesis h1, it means data is stationary\")\n",
    "\n",
    "else:\n",
    "    print(\"reject the null hypothesis, it means data is not stationary\")"
   ]
  },
  {
   "cell_type": "code",
   "execution_count": 27,
   "id": "judicial-destination",
   "metadata": {},
   "outputs": [
    {
     "data": {
      "text/html": [
       "<div>\n",
       "<style scoped>\n",
       "    .dataframe tbody tr th:only-of-type {\n",
       "        vertical-align: middle;\n",
       "    }\n",
       "\n",
       "    .dataframe tbody tr th {\n",
       "        vertical-align: top;\n",
       "    }\n",
       "\n",
       "    .dataframe thead th {\n",
       "        text-align: right;\n",
       "    }\n",
       "</style>\n",
       "<table border=\"1\" class=\"dataframe\">\n",
       "  <thead>\n",
       "    <tr style=\"text-align: right;\">\n",
       "      <th></th>\n",
       "      <th>Sales</th>\n",
       "      <th>Sales first diff</th>\n",
       "    </tr>\n",
       "    <tr>\n",
       "      <th>Month</th>\n",
       "      <th></th>\n",
       "      <th></th>\n",
       "    </tr>\n",
       "  </thead>\n",
       "  <tbody>\n",
       "    <tr>\n",
       "      <th>1960-01-01</th>\n",
       "      <td>648</td>\n",
       "      <td>NaN</td>\n",
       "    </tr>\n",
       "    <tr>\n",
       "      <th>1960-02-01</th>\n",
       "      <td>646</td>\n",
       "      <td>-2.0</td>\n",
       "    </tr>\n",
       "    <tr>\n",
       "      <th>1960-03-01</th>\n",
       "      <td>639</td>\n",
       "      <td>-7.0</td>\n",
       "    </tr>\n",
       "    <tr>\n",
       "      <th>1960-04-01</th>\n",
       "      <td>654</td>\n",
       "      <td>15.0</td>\n",
       "    </tr>\n",
       "    <tr>\n",
       "      <th>1960-05-01</th>\n",
       "      <td>630</td>\n",
       "      <td>-24.0</td>\n",
       "    </tr>\n",
       "  </tbody>\n",
       "</table>\n",
       "</div>"
      ],
      "text/plain": [
       "            Sales  Sales first diff\n",
       "Month                              \n",
       "1960-01-01    648               NaN\n",
       "1960-02-01    646              -2.0\n",
       "1960-03-01    639              -7.0\n",
       "1960-04-01    654              15.0\n",
       "1960-05-01    630             -24.0"
      ]
     },
     "execution_count": 27,
     "metadata": {},
     "output_type": "execute_result"
    }
   ],
   "source": [
    "data['Sales first diff'] = data['Sales'] - data['Sales'].shift(1)\n",
    "data.head()"
   ]
  },
  {
   "cell_type": "code",
   "execution_count": 28,
   "id": "domestic-atlas",
   "metadata": {},
   "outputs": [],
   "source": [
    "data['Sales first diff'].dropna(inplace=True)"
   ]
  },
  {
   "cell_type": "code",
   "execution_count": 29,
   "id": "numeric-convergence",
   "metadata": {},
   "outputs": [
    {
     "data": {
      "text/plain": [
       "<AxesSubplot:xlabel='Month'>"
      ]
     },
     "execution_count": 29,
     "metadata": {},
     "output_type": "execute_result"
    },
    {
     "data": {
      "image/png": "[encoded data removed]",
      "text/plain": [
       "<Figure size 432x288 with 1 Axes>"
      ]
     },
     "metadata": {
      "needs_background": "light"
     },
     "output_type": "display_data"
    }
   ],
   "source": [
    "data.plot()"
   ]
  },
  {
   "cell_type": "code",
   "execution_count": 30,
   "id": "controlling-colorado",
   "metadata": {},
   "outputs": [
    {
     "data": {
      "text/plain": [
       "<AxesSubplot:xlabel='Month'>"
      ]
     },
     "execution_count": 30,
     "metadata": {},
     "output_type": "execute_result"
    },
    {
     "data": {
      "image/png": "[encoded data removed]",
      "text/plain": [
       "<Figure size 432x288 with 1 Axes>"
      ]
     },
     "metadata": {
      "needs_background": "light"
     },
     "output_type": "display_data"
    }
   ],
   "source": [
    "# we are checking if the data has become stationary or not\n",
    "# we could also apply the ADF test\n",
    "data['Sales first diff'].plot()"
   ]
  },
  {
   "cell_type": "code",
   "execution_count": 36,
   "id": "excess-diagram",
   "metadata": {},
   "outputs": [
    {
     "data": {
      "text/html": [
       "<div>\n",
       "<style scoped>\n",
       "    .dataframe tbody tr th:only-of-type {\n",
       "        vertical-align: middle;\n",
       "    }\n",
       "\n",
       "    .dataframe tbody tr th {\n",
       "        vertical-align: top;\n",
       "    }\n",
       "\n",
       "    .dataframe thead th {\n",
       "        text-align: right;\n",
       "    }\n",
       "</style>\n",
       "<table border=\"1\" class=\"dataframe\">\n",
       "  <thead>\n",
       "    <tr style=\"text-align: right;\">\n",
       "      <th></th>\n",
       "      <th>Sales</th>\n",
       "      <th>Sales first diff</th>\n",
       "      <th>Sales 12 diff</th>\n",
       "      <th>Sales second diff</th>\n",
       "    </tr>\n",
       "    <tr>\n",
       "      <th>Month</th>\n",
       "      <th></th>\n",
       "      <th></th>\n",
       "      <th></th>\n",
       "      <th></th>\n",
       "    </tr>\n",
       "  </thead>\n",
       "  <tbody>\n",
       "    <tr>\n",
       "      <th>1960-01-01</th>\n",
       "      <td>648</td>\n",
       "      <td>NaN</td>\n",
       "      <td>NaN</td>\n",
       "      <td>NaN</td>\n",
       "    </tr>\n",
       "    <tr>\n",
       "      <th>1960-02-01</th>\n",
       "      <td>646</td>\n",
       "      <td>-2.0</td>\n",
       "      <td>NaN</td>\n",
       "      <td>NaN</td>\n",
       "    </tr>\n",
       "    <tr>\n",
       "      <th>1960-03-01</th>\n",
       "      <td>639</td>\n",
       "      <td>-7.0</td>\n",
       "      <td>NaN</td>\n",
       "      <td>NaN</td>\n",
       "    </tr>\n",
       "    <tr>\n",
       "      <th>1960-04-01</th>\n",
       "      <td>654</td>\n",
       "      <td>15.0</td>\n",
       "      <td>NaN</td>\n",
       "      <td>NaN</td>\n",
       "    </tr>\n",
       "    <tr>\n",
       "      <th>1960-05-01</th>\n",
       "      <td>630</td>\n",
       "      <td>-24.0</td>\n",
       "      <td>NaN</td>\n",
       "      <td>NaN</td>\n",
       "    </tr>\n",
       "  </tbody>\n",
       "</table>\n",
       "</div>"
      ],
      "text/plain": [
       "            Sales  Sales first diff  Sales 12 diff  Sales second diff\n",
       "Month                                                                \n",
       "1960-01-01    648               NaN            NaN                NaN\n",
       "1960-02-01    646              -2.0            NaN                NaN\n",
       "1960-03-01    639              -7.0            NaN                NaN\n",
       "1960-04-01    654              15.0            NaN                NaN\n",
       "1960-05-01    630             -24.0            NaN                NaN"
      ]
     },
     "execution_count": 36,
     "metadata": {},
     "output_type": "execute_result"
    }
   ],
   "source": [
    "#since we did not get a stationary data we have again the same thing as above\n",
    "data['Sales second diff'] = data['Sales'] - data['Sales'].shift(12)\n",
    "data['Sales second diff'].dropna(inplace=True)\n",
    "data.head()"
   ]
  },
  {
   "cell_type": "code",
   "execution_count": 40,
   "id": "wooden-logan",
   "metadata": {},
   "outputs": [
    {
     "data": {
      "text/html": [
       "<div>\n",
       "<style scoped>\n",
       "    .dataframe tbody tr th:only-of-type {\n",
       "        vertical-align: middle;\n",
       "    }\n",
       "\n",
       "    .dataframe tbody tr th {\n",
       "        vertical-align: top;\n",
       "    }\n",
       "\n",
       "    .dataframe thead th {\n",
       "        text-align: right;\n",
       "    }\n",
       "</style>\n",
       "<table border=\"1\" class=\"dataframe\">\n",
       "  <thead>\n",
       "    <tr style=\"text-align: right;\">\n",
       "      <th></th>\n",
       "      <th>Sales</th>\n",
       "      <th>Sales first diff</th>\n",
       "      <th>Sales second diff</th>\n",
       "    </tr>\n",
       "    <tr>\n",
       "      <th>Month</th>\n",
       "      <th></th>\n",
       "      <th></th>\n",
       "      <th></th>\n",
       "    </tr>\n",
       "  </thead>\n",
       "  <tbody>\n",
       "    <tr>\n",
       "      <th>1960-01-01</th>\n",
       "      <td>648</td>\n",
       "      <td>NaN</td>\n",
       "      <td>NaN</td>\n",
       "    </tr>\n",
       "    <tr>\n",
       "      <th>1960-02-01</th>\n",
       "      <td>646</td>\n",
       "      <td>-2.0</td>\n",
       "      <td>NaN</td>\n",
       "    </tr>\n",
       "    <tr>\n",
       "      <th>1960-03-01</th>\n",
       "      <td>639</td>\n",
       "      <td>-7.0</td>\n",
       "      <td>NaN</td>\n",
       "    </tr>\n",
       "    <tr>\n",
       "      <th>1960-04-01</th>\n",
       "      <td>654</td>\n",
       "      <td>15.0</td>\n",
       "      <td>NaN</td>\n",
       "    </tr>\n",
       "    <tr>\n",
       "      <th>1960-05-01</th>\n",
       "      <td>630</td>\n",
       "      <td>-24.0</td>\n",
       "      <td>NaN</td>\n",
       "    </tr>\n",
       "  </tbody>\n",
       "</table>\n",
       "</div>"
      ],
      "text/plain": [
       "            Sales  Sales first diff  Sales second diff\n",
       "Month                                                 \n",
       "1960-01-01    648               NaN                NaN\n",
       "1960-02-01    646              -2.0                NaN\n",
       "1960-03-01    639              -7.0                NaN\n",
       "1960-04-01    654              15.0                NaN\n",
       "1960-05-01    630             -24.0                NaN"
      ]
     },
     "execution_count": 40,
     "metadata": {},
     "output_type": "execute_result"
    }
   ],
   "source": [
    "# data = data.drop('Sales 12 diff', axis = 1)\n",
    "# data.head()"
   ]
  },
  {
   "cell_type": "code",
   "execution_count": 32,
   "id": "afraid-digest",
   "metadata": {},
   "outputs": [
    {
     "data": {
      "text/plain": [
       "<AxesSubplot:xlabel='Month'>"
      ]
     },
     "execution_count": 32,
     "metadata": {},
     "output_type": "execute_result"
    },
    {
     "data": {
      "image/png": "[encoded data removed]",
      "text/plain": [
       "<Figure size 432x288 with 1 Axes>"
      ]
     },
     "metadata": {
      "needs_background": "light"
     },
     "output_type": "display_data"
    }
   ],
   "source": [
    "data['Sales second diff'].plot()"
   ]
  },
  {
   "cell_type": "code",
   "execution_count": 34,
   "id": "armed-yeast",
   "metadata": {},
   "outputs": [],
   "source": [
    "from statsmodels.graphics.tsaplots import plot_acf, plot_pacf"
   ]
  },
  {
   "cell_type": "code",
   "execution_count": 35,
   "id": "baking-walnut",
   "metadata": {},
   "outputs": [
    {
     "data": {
      "image/png": "[encoded data removed]",
      "text/plain": [
       "<Figure size 432x288 with 1 Axes>"
      ]
     },
     "execution_count": 35,
     "metadata": {},
     "output_type": "execute_result"
    },
    {
     "data": {
      "image/png": "[encoded data removed]",
      "text/plain": [
       "<Figure size 432x288 with 1 Axes>"
      ]
     },
     "metadata": {
      "needs_background": "light"
     },
     "output_type": "display_data"
    }
   ],
   "source": [
    "#from this we get the p value\n",
    "# we will select the index of the value which closest to 0\n",
    "#so according the below plot, the minimum index value closest to 0 is 2\n",
    "#so our p value is 2\n",
    "plot_acf(data['Sales first diff'].iloc[1: ], lags = 30)"
   ]
  },
  {
   "cell_type": "code",
   "execution_count": 41,
   "id": "painted-comment",
   "metadata": {},
   "outputs": [
    {
     "data": {
      "image/png": "[encoded data removed]",
      "text/plain": [
       "<Figure size 432x288 with 1 Axes>"
      ]
     },
     "execution_count": 41,
     "metadata": {},
     "output_type": "execute_result"
    },
    {
     "data": {
      "image/png": "[encoded data removed]",
      "text/plain": [
       "<Figure size 432x288 with 1 Axes>"
      ]
     },
     "metadata": {
      "needs_background": "light"
     },
     "output_type": "display_data"
    }
   ],
   "source": [
    "#from this we get the q value\n",
    "# we will select the index of the value which closest to 0\n",
    "#so according the below plot, the minimum index value closest to 0 is 2\n",
    "#so our q value is 2\n",
    "plot_pacf(data['Sales first diff'].iloc[1: ], lags = 30)"
   ]
  },
  {
   "cell_type": "code",
   "execution_count": 49,
   "id": "multiple-degree",
   "metadata": {},
   "outputs": [],
   "source": [
    "# plot_acf(data['Sales second diff'].iloc[1: ], lags = 30)"
   ]
  },
  {
   "cell_type": "markdown",
   "id": "funky-diagnosis",
   "metadata": {},
   "source": [
    "# ARMA model"
   ]
  },
  {
   "cell_type": "code",
   "execution_count": 43,
   "id": "adapted-story",
   "metadata": {},
   "outputs": [],
   "source": [
    "from statsmodels.tsa.arima_model import ARMA"
   ]
  },
  {
   "cell_type": "code",
   "execution_count": 44,
   "id": "tough-estate",
   "metadata": {},
   "outputs": [
    {
     "name": "stderr",
     "output_type": "stream",
     "text": [
      "c:\\users\\harshit\\appdata\\local\\programs\\python\\python38\\lib\\site-packages\\statsmodels\\tsa\\arima_model.py:472: FutureWarning: \n",
      "statsmodels.tsa.arima_model.ARMA and statsmodels.tsa.arima_model.ARIMA have\n",
      "been deprecated in favor of statsmodels.tsa.arima.model.ARIMA (note the .\n",
      "between arima and model) and\n",
      "statsmodels.tsa.SARIMAX. These will be removed after the 0.12 release.\n",
      "\n",
      "statsmodels.tsa.arima.model.ARIMA makes use of the statespace framework and\n",
      "is both well tested and maintained.\n",
      "\n",
      "To silence this warning and continue using ARMA and ARIMA until they are\n",
      "removed, use:\n",
      "\n",
      "import warnings\n",
      "warnings.filterwarnings('ignore', 'statsmodels.tsa.arima_model.ARMA',\n",
      "                        FutureWarning)\n",
      "warnings.filterwarnings('ignore', 'statsmodels.tsa.arima_model.ARIMA',\n",
      "                        FutureWarning)\n",
      "\n",
      "  warnings.warn(ARIMA_DEPRECATION_WARN, FutureWarning)\n",
      "c:\\users\\harshit\\appdata\\local\\programs\\python\\python38\\lib\\site-packages\\statsmodels\\tsa\\base\\tsa_model.py:524: ValueWarning: No frequency information was provided, so inferred frequency MS will be used.\n",
      "  warnings.warn('No frequency information was'\n",
      "c:\\users\\harshit\\appdata\\local\\programs\\python\\python38\\lib\\site-packages\\statsmodels\\base\\model.py:547: HessianInversionWarning: Inverting hessian failed, no bse or cov_params available\n",
      "  warnings.warn('Inverting hessian failed, no bse or cov_params '\n",
      "c:\\users\\harshit\\appdata\\local\\programs\\python\\python38\\lib\\site-packages\\statsmodels\\base\\model.py:566: ConvergenceWarning: Maximum Likelihood optimization failed to converge. Check mle_retvals\n",
      "  warnings.warn(\"Maximum Likelihood optimization failed to \"\n"
     ]
    }
   ],
   "source": [
    "# order is a tuple of (p, q) values\n",
    "\n",
    "model = ARMA(data['Sales'], order=(2, 2))\n",
    "model_fit = model.fit()"
   ]
  },
  {
   "cell_type": "code",
   "execution_count": 46,
   "id": "european-experience",
   "metadata": {},
   "outputs": [
    {
     "name": "stderr",
     "output_type": "stream",
     "text": [
      "c:\\users\\harshit\\appdata\\local\\programs\\python\\python38\\lib\\site-packages\\statsmodels\\tsa\\arima_model.py:1521: RuntimeWarning: invalid value encountered in sqrt\n",
      "  return np.sqrt(np.diag(-inv(hess)))\n"
     ]
    },
    {
     "data": {
      "text/html": [
       "<table class=\"simpletable\">\n",
       "<caption>ARMA Model Results</caption>\n",
       "<tr>\n",
       "  <th>Dep. Variable:</th>       <td>Sales</td>      <th>  No. Observations:  </th>    <td>114</td>  \n",
       "</tr>\n",
       "<tr>\n",
       "  <th>Model:</th>            <td>ARMA(2, 2)</td>    <th>  Log Likelihood     </th> <td>-625.241</td>\n",
       "</tr>\n",
       "<tr>\n",
       "  <th>Method:</th>             <td>css-mle</td>     <th>  S.D. of innovations</th>  <td>56.707</td> \n",
       "</tr>\n",
       "<tr>\n",
       "  <th>Date:</th>          <td>Fri, 02 Jul 2021</td> <th>  AIC                </th> <td>1262.481</td>\n",
       "</tr>\n",
       "<tr>\n",
       "  <th>Time:</th>              <td>19:45:04</td>     <th>  BIC                </th> <td>1278.899</td>\n",
       "</tr>\n",
       "<tr>\n",
       "  <th>Sample:</th>           <td>01-01-1960</td>    <th>  HQIC               </th> <td>1269.144</td>\n",
       "</tr>\n",
       "<tr>\n",
       "  <th></th>                 <td>- 06-01-1969</td>   <th>                     </th>     <td> </td>   \n",
       "</tr>\n",
       "</table>\n",
       "<table class=\"simpletable\">\n",
       "<tr>\n",
       "       <td></td>          <th>coef</th>     <th>std err</th>      <th>z</th>      <th>P>|z|</th>  <th>[0.025</th>    <th>0.975]</th>  \n",
       "</tr>\n",
       "<tr>\n",
       "  <th>const</th>       <td> 1686.6788</td> <td>      nan</td> <td>      nan</td> <td>   nan</td> <td>      nan</td> <td>      nan</td>\n",
       "</tr>\n",
       "<tr>\n",
       "  <th>ar.L1.Sales</th> <td>    1.9980</td> <td>    0.000</td> <td> 5399.645</td> <td> 0.000</td> <td>    1.997</td> <td>    1.999</td>\n",
       "</tr>\n",
       "<tr>\n",
       "  <th>ar.L2.Sales</th> <td>   -0.9980</td> <td>    0.000</td> <td>-2055.339</td> <td> 0.000</td> <td>   -0.999</td> <td>   -0.997</td>\n",
       "</tr>\n",
       "<tr>\n",
       "  <th>ma.L1.Sales</th> <td>   -1.0064</td> <td>    0.115</td> <td>   -8.753</td> <td> 0.000</td> <td>   -1.232</td> <td>   -0.781</td>\n",
       "</tr>\n",
       "<tr>\n",
       "  <th>ma.L2.Sales</th> <td>    0.0064</td> <td>    0.115</td> <td>    0.056</td> <td> 0.955</td> <td>   -0.218</td> <td>    0.231</td>\n",
       "</tr>\n",
       "</table>\n",
       "<table class=\"simpletable\">\n",
       "<caption>Roots</caption>\n",
       "<tr>\n",
       "    <td></td>   <th>            Real</th>  <th>         Imaginary</th> <th>         Modulus</th>  <th>        Frequency</th>\n",
       "</tr>\n",
       "<tr>\n",
       "  <th>AR.1</th> <td>           1.0010</td> <td>          -0.0066j</td> <td>           1.0010</td> <td>          -0.0010</td>\n",
       "</tr>\n",
       "<tr>\n",
       "  <th>AR.2</th> <td>           1.0010</td> <td>          +0.0066j</td> <td>           1.0010</td> <td>           0.0010</td>\n",
       "</tr>\n",
       "<tr>\n",
       "  <th>MA.1</th> <td>           1.0000</td> <td>          +0.0000j</td> <td>           1.0000</td> <td>           0.0000</td>\n",
       "</tr>\n",
       "<tr>\n",
       "  <th>MA.2</th> <td>         156.0392</td> <td>          +0.0000j</td> <td>         156.0392</td> <td>           0.0000</td>\n",
       "</tr>\n",
       "</table>"
      ],
      "text/plain": [
       "<class 'statsmodels.iolib.summary.Summary'>\n",
       "\"\"\"\n",
       "                              ARMA Model Results                              \n",
       "==============================================================================\n",
       "Dep. Variable:                  Sales   No. Observations:                  114\n",
       "Model:                     ARMA(2, 2)   Log Likelihood                -625.241\n",
       "Method:                       css-mle   S.D. of innovations             56.707\n",
       "Date:                Fri, 02 Jul 2021   AIC                           1262.481\n",
       "Time:                        19:45:04   BIC                           1278.899\n",
       "Sample:                    01-01-1960   HQIC                          1269.144\n",
       "                         - 06-01-1969                                         \n",
       "===============================================================================\n",
       "                  coef    std err          z      P>|z|      [0.025      0.975]\n",
       "-------------------------------------------------------------------------------\n",
       "const        1686.6788        nan        nan        nan         nan         nan\n",
       "ar.L1.Sales     1.9980      0.000   5399.645      0.000       1.997       1.999\n",
       "ar.L2.Sales    -0.9980      0.000  -2055.339      0.000      -0.999      -0.997\n",
       "ma.L1.Sales    -1.0064      0.115     -8.753      0.000      -1.232      -0.781\n",
       "ma.L2.Sales     0.0064      0.115      0.056      0.955      -0.218       0.231\n",
       "                                    Roots                                    \n",
       "=============================================================================\n",
       "                  Real          Imaginary           Modulus         Frequency\n",
       "-----------------------------------------------------------------------------\n",
       "AR.1            1.0010           -0.0066j            1.0010           -0.0010\n",
       "AR.2            1.0010           +0.0066j            1.0010            0.0010\n",
       "MA.1            1.0000           +0.0000j            1.0000            0.0000\n",
       "MA.2          156.0392           +0.0000j          156.0392            0.0000\n",
       "-----------------------------------------------------------------------------\n",
       "\"\"\""
      ]
     },
     "execution_count": 46,
     "metadata": {},
     "output_type": "execute_result"
    }
   ],
   "source": [
    "model_fit.summary()"
   ]
  },
  {
   "cell_type": "code",
   "execution_count": 48,
   "id": "immune-press",
   "metadata": {
    "scrolled": true
   },
   "outputs": [
    {
     "data": {
      "text/plain": [
       "<AxesSubplot:xlabel='Month'>"
      ]
     },
     "execution_count": 48,
     "metadata": {},
     "output_type": "execute_result"
    },
    {
     "data": {
      "image/png": "[encoded data removed]",
      "text/plain": [
       "<Figure size 576x360 with 1 Axes>"
      ]
     },
     "metadata": {
      "needs_background": "light"
     },
     "output_type": "display_data"
    }
   ],
   "source": [
    "data['ARMA_forecasts'] = model_fit.predict(start = 92, end = 114, dynamic=True)\n",
    "\n",
    "data[['Sales', 'ARMA_forecasts']].plot(figsize=(8, 5))"
   ]
  },
  {
   "cell_type": "markdown",
   "id": "limited-simpson",
   "metadata": {},
   "source": [
    "# ARIMA Model"
   ]
  },
  {
   "cell_type": "code",
   "execution_count": 50,
   "id": "diagnostic-world",
   "metadata": {},
   "outputs": [],
   "source": [
    "from statsmodels.tsa.arima_model import ARIMA"
   ]
  },
  {
   "cell_type": "code",
   "execution_count": 56,
   "id": "sunset-saskatchewan",
   "metadata": {},
   "outputs": [
    {
     "name": "stderr",
     "output_type": "stream",
     "text": [
      "c:\\users\\harshit\\appdata\\local\\programs\\python\\python38\\lib\\site-packages\\statsmodels\\tsa\\base\\tsa_model.py:524: ValueWarning: No frequency information was provided, so inferred frequency MS will be used.\n",
      "  warnings.warn('No frequency information was'\n",
      "c:\\users\\harshit\\appdata\\local\\programs\\python\\python38\\lib\\site-packages\\statsmodels\\tsa\\base\\tsa_model.py:524: ValueWarning: No frequency information was provided, so inferred frequency MS will be used.\n",
      "  warnings.warn('No frequency information was'\n",
      "c:\\users\\harshit\\appdata\\local\\programs\\python\\python38\\lib\\site-packages\\statsmodels\\tsa\\arima_model.py:472: FutureWarning: \n",
      "statsmodels.tsa.arima_model.ARMA and statsmodels.tsa.arima_model.ARIMA have\n",
      "been deprecated in favor of statsmodels.tsa.arima.model.ARIMA (note the .\n",
      "between arima and model) and\n",
      "statsmodels.tsa.SARIMAX. These will be removed after the 0.12 release.\n",
      "\n",
      "statsmodels.tsa.arima.model.ARIMA makes use of the statespace framework and\n",
      "is both well tested and maintained.\n",
      "\n",
      "To silence this warning and continue using ARMA and ARIMA until they are\n",
      "removed, use:\n",
      "\n",
      "import warnings\n",
      "warnings.filterwarnings('ignore', 'statsmodels.tsa.arima_model.ARMA',\n",
      "                        FutureWarning)\n",
      "warnings.filterwarnings('ignore', 'statsmodels.tsa.arima_model.ARIMA',\n",
      "                        FutureWarning)\n",
      "\n",
      "  warnings.warn(ARIMA_DEPRECATION_WARN, FutureWarning)\n"
     ]
    }
   ],
   "source": [
    "#order a tuple of (p, q, d) values\n",
    "\n",
    "model1 = ARIMA(data['Sales'], order=(2, 1, 2))\n",
    "model_fit1 = model1.fit()"
   ]
  },
  {
   "cell_type": "code",
   "execution_count": 57,
   "id": "individual-carry",
   "metadata": {},
   "outputs": [
    {
     "data": {
      "text/html": [
       "<table class=\"simpletable\">\n",
       "<caption>ARIMA Model Results</caption>\n",
       "<tr>\n",
       "  <th>Dep. Variable:</th>      <td>D.Sales</td>     <th>  No. Observations:  </th>    <td>113</td>  \n",
       "</tr>\n",
       "<tr>\n",
       "  <th>Model:</th>          <td>ARIMA(2, 1, 2)</td>  <th>  Log Likelihood     </th> <td>-611.903</td>\n",
       "</tr>\n",
       "<tr>\n",
       "  <th>Method:</th>             <td>css-mle</td>     <th>  S.D. of innovations</th>  <td>54.314</td> \n",
       "</tr>\n",
       "<tr>\n",
       "  <th>Date:</th>          <td>Fri, 02 Jul 2021</td> <th>  AIC                </th> <td>1235.807</td>\n",
       "</tr>\n",
       "<tr>\n",
       "  <th>Time:</th>              <td>19:56:46</td>     <th>  BIC                </th> <td>1252.171</td>\n",
       "</tr>\n",
       "<tr>\n",
       "  <th>Sample:</th>           <td>02-01-1960</td>    <th>  HQIC               </th> <td>1242.447</td>\n",
       "</tr>\n",
       "<tr>\n",
       "  <th></th>                 <td>- 06-01-1969</td>   <th>                     </th>     <td> </td>   \n",
       "</tr>\n",
       "</table>\n",
       "<table class=\"simpletable\">\n",
       "<tr>\n",
       "        <td></td>           <th>coef</th>     <th>std err</th>      <th>z</th>      <th>P>|z|</th>  <th>[0.025</th>    <th>0.975]</th>  \n",
       "</tr>\n",
       "<tr>\n",
       "  <th>const</th>         <td>    6.7323</td> <td>    2.247</td> <td>    2.996</td> <td> 0.003</td> <td>    2.328</td> <td>   11.137</td>\n",
       "</tr>\n",
       "<tr>\n",
       "  <th>ar.L1.D.Sales</th> <td>    0.1449</td> <td>    0.274</td> <td>    0.530</td> <td> 0.596</td> <td>   -0.391</td> <td>    0.681</td>\n",
       "</tr>\n",
       "<tr>\n",
       "  <th>ar.L2.D.Sales</th> <td>    0.2776</td> <td>    0.238</td> <td>    1.167</td> <td> 0.243</td> <td>   -0.188</td> <td>    0.744</td>\n",
       "</tr>\n",
       "<tr>\n",
       "  <th>ma.L1.D.Sales</th> <td>   -0.2315</td> <td>    0.244</td> <td>   -0.949</td> <td> 0.343</td> <td>   -0.710</td> <td>    0.247</td>\n",
       "</tr>\n",
       "<tr>\n",
       "  <th>ma.L2.D.Sales</th> <td>   -0.5258</td> <td>    0.223</td> <td>   -2.355</td> <td> 0.019</td> <td>   -0.963</td> <td>   -0.088</td>\n",
       "</tr>\n",
       "</table>\n",
       "<table class=\"simpletable\">\n",
       "<caption>Roots</caption>\n",
       "<tr>\n",
       "    <td></td>   <th>            Real</th>  <th>         Imaginary</th> <th>         Modulus</th>  <th>        Frequency</th>\n",
       "</tr>\n",
       "<tr>\n",
       "  <th>AR.1</th> <td>           1.6548</td> <td>          +0.0000j</td> <td>           1.6548</td> <td>           0.0000</td>\n",
       "</tr>\n",
       "<tr>\n",
       "  <th>AR.2</th> <td>          -2.1768</td> <td>          +0.0000j</td> <td>           2.1768</td> <td>           0.5000</td>\n",
       "</tr>\n",
       "<tr>\n",
       "  <th>MA.1</th> <td>           1.1764</td> <td>          +0.0000j</td> <td>           1.1764</td> <td>           0.0000</td>\n",
       "</tr>\n",
       "<tr>\n",
       "  <th>MA.2</th> <td>          -1.6167</td> <td>          +0.0000j</td> <td>           1.6167</td> <td>           0.5000</td>\n",
       "</tr>\n",
       "</table>"
      ],
      "text/plain": [
       "<class 'statsmodels.iolib.summary.Summary'>\n",
       "\"\"\"\n",
       "                             ARIMA Model Results                              \n",
       "==============================================================================\n",
       "Dep. Variable:                D.Sales   No. Observations:                  113\n",
       "Model:                 ARIMA(2, 1, 2)   Log Likelihood                -611.903\n",
       "Method:                       css-mle   S.D. of innovations             54.314\n",
       "Date:                Fri, 02 Jul 2021   AIC                           1235.807\n",
       "Time:                        19:56:46   BIC                           1252.171\n",
       "Sample:                    02-01-1960   HQIC                          1242.447\n",
       "                         - 06-01-1969                                         \n",
       "=================================================================================\n",
       "                    coef    std err          z      P>|z|      [0.025      0.975]\n",
       "---------------------------------------------------------------------------------\n",
       "const             6.7323      2.247      2.996      0.003       2.328      11.137\n",
       "ar.L1.D.Sales     0.1449      0.274      0.530      0.596      -0.391       0.681\n",
       "ar.L2.D.Sales     0.2776      0.238      1.167      0.243      -0.188       0.744\n",
       "ma.L1.D.Sales    -0.2315      0.244     -0.949      0.343      -0.710       0.247\n",
       "ma.L2.D.Sales    -0.5258      0.223     -2.355      0.019      -0.963      -0.088\n",
       "                                    Roots                                    \n",
       "=============================================================================\n",
       "                  Real          Imaginary           Modulus         Frequency\n",
       "-----------------------------------------------------------------------------\n",
       "AR.1            1.6548           +0.0000j            1.6548            0.0000\n",
       "AR.2           -2.1768           +0.0000j            2.1768            0.5000\n",
       "MA.1            1.1764           +0.0000j            1.1764            0.0000\n",
       "MA.2           -1.6167           +0.0000j            1.6167            0.5000\n",
       "-----------------------------------------------------------------------------\n",
       "\"\"\""
      ]
     },
     "execution_count": 57,
     "metadata": {},
     "output_type": "execute_result"
    }
   ],
   "source": [
    "model_fit1.summary()"
   ]
  },
  {
   "cell_type": "code",
   "execution_count": 59,
   "id": "guilty-representative",
   "metadata": {},
   "outputs": [
    {
     "data": {
      "text/plain": [
       "<AxesSubplot:xlabel='Month'>"
      ]
     },
     "execution_count": 59,
     "metadata": {},
     "output_type": "execute_result"
    },
    {
     "data": {
      "image/png": "[encoded data removed]",
      "text/plain": [
       "<Figure size 576x360 with 1 Axes>"
      ]
     },
     "metadata": {
      "needs_background": "light"
     },
     "output_type": "display_data"
    }
   ],
   "source": [
    "data['ARIMA_forecasts'] = model_fit1.predict(start = 92, end = 114, dynamic=True)\n",
    "\n",
    "data[['Sales', 'ARIMA_forecasts']].plot(figsize=(8, 5))\n",
    "\n",
    "# we see that ARIMA is not good for this dat aso we use the SARIMA model"
   ]
  },
  {
   "cell_type": "markdown",
   "id": "innocent-quebec",
   "metadata": {},
   "source": [
    "# S-ARIMA"
   ]
  },
  {
   "cell_type": "code",
   "execution_count": 61,
   "id": "pregnant-accordance",
   "metadata": {},
   "outputs": [
    {
     "name": "stderr",
     "output_type": "stream",
     "text": [
      "c:\\users\\harshit\\appdata\\local\\programs\\python\\python38\\lib\\site-packages\\statsmodels\\tsa\\base\\tsa_model.py:524: ValueWarning: No frequency information was provided, so inferred frequency MS will be used.\n",
      "  warnings.warn('No frequency information was'\n",
      "c:\\users\\harshit\\appdata\\local\\programs\\python\\python38\\lib\\site-packages\\statsmodels\\tsa\\base\\tsa_model.py:524: ValueWarning: No frequency information was provided, so inferred frequency MS will be used.\n",
      "  warnings.warn('No frequency information was'\n",
      "c:\\users\\harshit\\appdata\\local\\programs\\python\\python38\\lib\\site-packages\\statsmodels\\tsa\\statespace\\sarimax.py:966: UserWarning: Non-stationary starting autoregressive parameters found. Using zeros as starting parameters.\n",
      "  warn('Non-stationary starting autoregressive parameters'\n",
      "c:\\users\\harshit\\appdata\\local\\programs\\python\\python38\\lib\\site-packages\\statsmodels\\tsa\\statespace\\sarimax.py:978: UserWarning: Non-invertible starting MA parameters found. Using zeros as starting parameters.\n",
      "  warn('Non-invertible starting MA parameters found.'\n",
      "c:\\users\\harshit\\appdata\\local\\programs\\python\\python38\\lib\\site-packages\\statsmodels\\base\\model.py:566: ConvergenceWarning: Maximum Likelihood optimization failed to converge. Check mle_retvals\n",
      "  warnings.warn(\"Maximum Likelihood optimization failed to \"\n"
     ]
    }
   ],
   "source": [
    "import statsmodels.api as sm\n",
    "\n",
    "#seasonal_order is same as order except for the 4th value\n",
    "# it is the season number, i.e. after how many 'number' the season changes\n",
    "model_s = sm.tsa.statespace.SARIMAX(data['Sales'], order=(2, 1, 2), seasonal_order=(2, 1, 2, 6))\n",
    "res = model_s.fit()"
   ]
  },
  {
   "cell_type": "code",
   "execution_count": 62,
   "id": "meaning-movement",
   "metadata": {},
   "outputs": [
    {
     "data": {
      "text/plain": [
       "<AxesSubplot:xlabel='Month'>"
      ]
     },
     "execution_count": 62,
     "metadata": {},
     "output_type": "execute_result"
    },
    {
     "data": {
      "image/png": "[encoded data removed]",
      "text/plain": [
       "<Figure size 576x360 with 1 Axes>"
      ]
     },
     "metadata": {
      "needs_background": "light"
     },
     "output_type": "display_data"
    }
   ],
   "source": [
    "data['SARIMA_forecasts'] = res.predict(start = 92, end = 114, dynamic=True)\n",
    "\n",
    "data[['Sales', 'SARIMA_forecasts']].plot(figsize=(8, 5))"
   ]
  },
  {
   "cell_type": "markdown",
   "id": "narrow-diana",
   "metadata": {},
   "source": [
    "## Future Predictions using SARIMA model"
   ]
  },
  {
   "cell_type": "code",
   "execution_count": 66,
   "id": "south-worcester",
   "metadata": {},
   "outputs": [],
   "source": [
    "import datetime\n",
    "from dateutil.relativedelta import relativedelta"
   ]
  },
  {
   "cell_type": "code",
   "execution_count": 69,
   "id": "anonymous-restoration",
   "metadata": {},
   "outputs": [],
   "source": [
    "start = datetime.datetime.strptime(\"1969-07-01\", '%Y-%m-%d')\n",
    "\n",
    "date_list = [start + relativedelta(months=x)  for x in range(0, 12)]\n",
    "future_predictions = pd.DataFrame(index = date_list, columns = data.columns)\n",
    "data = pd.concat([data, future_predictions])"
   ]
  },
  {
   "cell_type": "code",
   "execution_count": 70,
   "id": "alike-miami",
   "metadata": {},
   "outputs": [
    {
     "data": {
      "image/png": "[encoded data removed]",
      "text/plain": [
       "<Figure size 576x360 with 1 Axes>"
      ]
     },
     "metadata": {
      "needs_background": "light"
     },
     "output_type": "display_data"
    }
   ],
   "source": [
    "data['future_prediction'] = res.predict(start = 113, end = 130, dynamic=True)\n",
    "\n",
    "data[['Sales', 'future_prediction']].plot(figsize=(8, 5))\n",
    "plt.grid(True)"
   ]
  },
  {
   "cell_type": "code",
   "execution_count": null,
   "id": "corporate-colony",
   "metadata": {},
   "outputs": [],
   "source": []
  }
 ],
 "metadata": {
  "kernelspec": {
   "display_name": "Python 3",
   "language": "python",
   "name": "python3"
  },
  "language_info": {
   "codemirror_mode": {
    "name": "ipython",
    "version": 3
   },
   "file_extension": ".py",
   "mimetype": "text/x-python",
   "name": "python",
   "nbconvert_exporter": "python",
   "pygments_lexer": "ipython3",
   "version": "3.8.1"
  }
 },
 "nbformat": 4,
 "nbformat_minor": 5
}
