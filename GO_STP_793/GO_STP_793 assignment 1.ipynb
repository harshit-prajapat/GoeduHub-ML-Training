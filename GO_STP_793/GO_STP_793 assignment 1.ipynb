{
 "cells": [
  {
   "cell_type": "code",
   "execution_count": 4,
   "id": "present-russian",
   "metadata": {},
   "outputs": [
    {
     "name": "stdout",
     "output_type": "stream",
     "text": [
      "Enter color, fruit or animal name : YELLOW\n",
      "yellow is a Color\n"
     ]
    }
   ],
   "source": [
    "# 1. We are having 3 list like this\n",
    "# Colors = [“Yellow”,”Green”,”White”,”Black”]\n",
    "# Fruits=[“Apple”,”Papaya”,”Mango”,”Orange”]\n",
    "# Animals=[“Tiger”,”Lion”,”Deer”,”Zebra”]\n",
    "# i. Write a program that asks user to enter a Color/Fruit/Animal name and it should tell which category belongs to ,\n",
    "# like its is a fruit or color or Animal\n",
    "\n",
    "Colors = [\"yellow\",\"green\",\"white\",\"black\"]\n",
    "Fruits = [\"apple\",\"papaya\",\"mango\",\"orange\"]\n",
    "Animals = [\"tiger\",\"lion\",\"deer\",\"zebra\"]\n",
    "n = input(\"Enter color, fruit or animal name : \").lower()\n",
    "if n in Colors:\n",
    "    print(n,\"is a Color\")\n",
    "elif n in Fruits:\n",
    "    print(n,\"is a Fruit\")\n",
    "elif n in Animals:\n",
    "    print(n,\"is an Animal\")\n",
    "else:\n",
    "    print(\"Sorry! not in any category\")"
   ]
  },
  {
   "cell_type": "code",
   "execution_count": null,
   "id": "identified-designer",
   "metadata": {},
   "outputs": [],
   "source": [
    "# ii. Write a program that asks user to enter two items and it tells you if \n",
    "# they both are in same category or not. For example if I enter yellow and \n",
    "# Black,it will print \"Both are colors\" but if I enter yellow and Tiger it \n",
    "# should print \"They don't belong to same category\"\n",
    "\n",
    "m = input(\"Enter a name :\").lower()\n",
    "n = input(\"Enter a name :\").lower()\n",
    "if m in Colors and n in Colors:\n",
    "    print(\"Both are Colors\")\n",
    "elif m in Fruits and n in Fruits:\n",
    "    print(\"Both are Fruits\")\n",
    "elif m in Animals and n in Animals:\n",
    "    print(\"Both are Animals\")\n",
    "else:\n",
    "    print(\"They don't belong to same category\")"
   ]
  },
  {
   "cell_type": "code",
   "execution_count": 5,
   "id": "pursuant-gravity",
   "metadata": {},
   "outputs": [
    {
     "name": "stdout",
     "output_type": "stream",
     "text": [
      "Enter your score: 40\n",
      "40.0 is normal mark\n"
     ]
    }
   ],
   "source": [
    "# 2. Write a python program that can tell you if your grade score good or not. \n",
    "# Normal Score range is 40 to 60.\n",
    "# i. Ask user to enter his score.\n",
    "# ii. If it is below 40 to 60 range then print that score is low\n",
    "# iii. If it is above 60 then print that it is good otherwise print that it \n",
    "# is normal.\n",
    "\n",
    "score=float(input(\"Enter your score: \"))\n",
    "if score > 60:\n",
    "    print(f\"{score} is good mark\")\n",
    "elif score < 40:\n",
    "    print(f\"{score} is low mark\")\n",
    "else:\n",
    "    print(f\"{score} is normal mark\")"
   ]
  },
  {
   "cell_type": "code",
   "execution_count": 7,
   "id": "wrong-corrections",
   "metadata": {},
   "outputs": [
    {
     "name": "stdout",
     "output_type": "stream",
     "text": [
      "You passed 4 times\n"
     ]
    }
   ],
   "source": [
    "# 3. After appearing in exam 10 times you got this result,\n",
    "# result = [\"Pass\",\"Fail\",\"Fail\",\"Pass\",\"Fail\",\"Pass\",\"Pass\",\"Fail\",\n",
    "# \"Fail\",\"Fail\"]\n",
    "# Using for loop figure out how many times you got Pass\n",
    "\n",
    "\n",
    "result = [\"Pass\",\"Fail\",\"Fail\",\"Pass\",\"Fail\",\"Pass\",\"Pass\",\"Fail\",\"Fail\",\"Fail\"]\n",
    "count = 0\n",
    "for i in result:\n",
    "    if i == \"Pass\":\n",
    "        count += 1\n",
    "print(f'You passed {count} times')"
   ]
  },
  {
   "cell_type": "code",
   "execution_count": 10,
   "id": "careful-paint",
   "metadata": {},
   "outputs": [
    {
     "name": "stdout",
     "output_type": "stream",
     "text": [
      "* \n",
      "* * \n",
      "* * * \n",
      "* * * * \n",
      "* * * * * \n",
      "* * * * \n",
      "* * * \n",
      "* * \n",
      "* \n",
      "\n",
      "\n"
     ]
    }
   ],
   "source": [
    "# 4. Write a program that prints following shape\n",
    "# *\n",
    "# * *\n",
    "# * * *\n",
    "# * * * *\n",
    "# * * * * *\n",
    "# * * * *\n",
    "# * * *\n",
    "# * *\n",
    "# *\n",
    "\n",
    "\n",
    "rows = 5\n",
    "for i in range(0,rows):\n",
    "    for j in range(0,i+1):\n",
    "        print(\"*\",end = \" \")\n",
    "    print()\n",
    "for i in range(rows+1,0,-1):\n",
    "    for j in range(1,i-1):\n",
    "        print(\"*\", end = \" \")\n",
    "    print()"
   ]
  },
  {
   "cell_type": "code",
   "execution_count": 19,
   "id": "international-beauty",
   "metadata": {},
   "outputs": [
    {
     "name": "stdout",
     "output_type": "stream",
     "text": [
      "You didn't finish the race\n"
     ]
    }
   ],
   "source": [
    "# 5. Lets say you are running a 50 km race. Write a program that,\n",
    "# Upon completing each 10 km asks you \"are you tired?\"\n",
    "# If you reply \"yes\" then it should break and print \"you didn't finish the race\"\n",
    "# If you reply \"no\" then it should continue and ask \"are you tired\" on every km\n",
    "# If you finish all 50 km then it should print congratulations message\n",
    "\n",
    "\n",
    "for i in range(1,51):\n",
    "    if i%10 == 0:\n",
    "        n = input(\"Are you tired?\").upper()\n",
    "    if n == \"YES\":\n",
    "        print(\"You didn't finish the race\")\n",
    "        break\n",
    "    if i==50:\n",
    "        print(\"Congratulations!! You finished the race\")\n",
    "    else:\n",
    "        print(f\"congrats! You still ran {i} KM\")"
   ]
  },
  {
   "cell_type": "code",
   "execution_count": 22,
   "id": "heavy-climate",
   "metadata": {},
   "outputs": [
    {
     "name": "stdout",
     "output_type": "stream",
     "text": [
      "1505 1540 1575 1610 1645 1680 1715 1750 1785 1820 1855 1890 1925 1960 1995 2030 2065 2100 2135 2170 2205 2240 2275 2310 2345 2380 2415 2450 2485 2520 2555 2590 2625 2660 2695 "
     ]
    }
   ],
   "source": [
    "# 6. Write a Python program to find those numbers which are divisible by 7 \n",
    "# and multiple of 5, between 1500 and 2700 (both included).\n",
    "\n",
    "for i in range(1500,2701):\n",
    "    if i%7 == 0 and i%5 == 0:\n",
    "        print(i, end = \" \")"
   ]
  },
  {
   "cell_type": "code",
   "execution_count": 23,
   "id": "systematic-document",
   "metadata": {},
   "outputs": [
    {
     "name": "stdout",
     "output_type": "stream",
     "text": [
      "121\n",
      "169\n",
      "225\n",
      "289\n",
      "361\n"
     ]
    }
   ],
   "source": [
    "# 7. Print square of all numbers between 10 to 20 except even numbers\n",
    "\n",
    "for i in range(10,21):\n",
    "    if i % 2 == 0:\n",
    "        continue\n",
    "    print(i*i)"
   ]
  },
  {
   "cell_type": "code",
   "execution_count": 26,
   "id": "creative-omaha",
   "metadata": {},
   "outputs": [
    {
     "name": "stdout",
     "output_type": "stream",
     "text": [
      "Enter the mark: 75\n",
      "Oops!, I found that You have entered the wrong mark 75. Please provide the correct marks\n"
     ]
    }
   ],
   "source": [
    "# 8. Your Marks for five Test(test1 to test5) looks like this,\n",
    "# marks_list = [65, 75, 2100, 95, 83]\n",
    "# Write a program that asks you to enter marks and program should tell you in which test that marks occurred. If\n",
    "# marks is not found then it should print that as well.\n",
    "\n",
    "\n",
    "\n",
    "\n",
    "\n",
    "test_list = [\"Test1\",\"Test2\",\"Test3\",\"Test4\",\"Test5\"]\n",
    "marks_list = [65, 75, 2100, 95, 83]\n",
    "mark= int(input(\"Enter the mark: \"))\n",
    "test=-1\n",
    "for i in range(len(marks_list)):\n",
    "    if mark == marks_list[i]:\n",
    "        test = i\n",
    "        break\n",
    "    if test != -1:\n",
    "        print(f'You got {mark} in {test_list[test]}')\n",
    "    else:\n",
    "        print(f'Oops!, I found that You have entered the wrong mark {mark}. Please provide the correct marks')"
   ]
  },
  {
   "cell_type": "code",
   "execution_count": null,
   "id": "forward-plant",
   "metadata": {},
   "outputs": [],
   "source": []
  }
 ],
 "metadata": {
  "kernelspec": {
   "display_name": "Python 3",
   "language": "python",
   "name": "python3"
  },
  "language_info": {
   "codemirror_mode": {
    "name": "ipython",
    "version": 3
   },
   "file_extension": ".py",
   "mimetype": "text/x-python",
   "name": "python",
   "nbconvert_exporter": "python",
   "pygments_lexer": "ipython3",
   "version": "3.8.1"
  }
 },
 "nbformat": 4,
 "nbformat_minor": 5
}
