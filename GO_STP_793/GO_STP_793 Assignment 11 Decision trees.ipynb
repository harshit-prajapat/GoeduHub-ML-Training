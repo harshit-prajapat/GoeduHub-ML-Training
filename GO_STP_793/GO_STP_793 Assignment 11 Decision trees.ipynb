{
 "cells": [
  {
   "cell_type": "code",
   "execution_count": null,
   "source": [
    "import numpy as np\r\n",
    "import pandas as pd\r\n",
    "import matplotlib.pyplot as plt"
   ],
   "outputs": [],
   "metadata": {}
  },
  {
   "cell_type": "code",
   "execution_count": null,
   "source": [],
   "outputs": [],
   "metadata": {}
  }
 ],
 "metadata": {
  "orig_nbformat": 4,
  "language_info": {
   "name": "python",
   "version": "3.8.1"
  },
  "kernelspec": {
   "name": "python3",
   "display_name": "Python 3.8.1 64-bit"
  },
  "interpreter": {
   "hash": "6aa539a83111a9384bd0576e62e1ba9ee3c6472af4aed7030e73dfabf4b549da"
  }
 },
 "nbformat": 4,
 "nbformat_minor": 2
}