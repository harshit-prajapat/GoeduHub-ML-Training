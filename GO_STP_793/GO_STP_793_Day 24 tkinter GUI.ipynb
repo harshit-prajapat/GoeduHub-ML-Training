{
 "cells": [
  {
   "cell_type": "code",
   "execution_count": 1,
   "id": "threaded-atmosphere",
   "metadata": {},
   "outputs": [],
   "source": [
    "import tkinter"
   ]
  },
  {
   "cell_type": "code",
   "execution_count": 6,
   "id": "pleasant-catering",
   "metadata": {},
   "outputs": [],
   "source": [
    "window = tkinter.Tk()\n",
    "# window.title(\"GUI\")\n",
    "label = tkinter.Label(window, text = \"hello\").pack()\n",
    "\n",
    "#label() is to put the text in the given window\n",
    "#pack is just defining where in the window our element is going to be printed\n",
    "window.mainloop()"
   ]
  },
  {
   "cell_type": "markdown",
   "id": "motivated-equivalent",
   "metadata": {},
   "source": [
    "## Widgets\n",
    "\n",
    "label - simple text\n",
    "\n",
    "button\n",
    "\n",
    "entry - user input\n",
    "\n",
    "combo box\n",
    "\n",
    "check button\n",
    "\n",
    "radio button\n",
    "\n",
    "menubar\n",
    "\n",
    "canvas"
   ]
  },
  {
   "cell_type": "code",
   "execution_count": 7,
   "id": "whole-wiring",
   "metadata": {},
   "outputs": [],
   "source": [
    "# using widgets\n",
    "import tkinter as tk\n"
   ]
  },
  {
   "cell_type": "code",
   "execution_count": 16,
   "id": "designed-brazilian",
   "metadata": {},
   "outputs": [],
   "source": [
    "var = tk.Tk()\n",
    "\n",
    "var.title('counting seconds')\n",
    "\n",
    "button = tk.Button(var, text='e.g. button', width=25, bg='red')\n",
    "\n",
    "var.geometry('350x200')  # to set the width and height of the window\n",
    "button.pack()  # pack() automatically sets the position of the element on which it is applied\n",
    "\n",
    "var.mainloop()  # this keeps the window until we close it, if this is not written the window will close automatically after rendering once\n"
   ]
  },
  {
   "cell_type": "code",
   "execution_count": 13,
   "id": "patent-charleston",
   "metadata": {},
   "outputs": [
    {
     "ename": "TclError",
     "evalue": "can't invoke \"canvas\" command: application has been destroyed",
     "output_type": "error",
     "traceback": [
      "\u001b[1;31m---------------------------------------------------------------------------\u001b[0m",
      "\u001b[1;31mTclError\u001b[0m                                  Traceback (most recent call last)",
      "\u001b[1;32m<ipython-input-13-da993e745d20>\u001b[0m in \u001b[0;36m<module>\u001b[1;34m\u001b[0m\n\u001b[1;32m----> 1\u001b[1;33m \u001b[0mcanvas\u001b[0m \u001b[1;33m=\u001b[0m \u001b[0mtk\u001b[0m\u001b[1;33m.\u001b[0m\u001b[0mCanvas\u001b[0m\u001b[1;33m(\u001b[0m\u001b[0mvar\u001b[0m\u001b[1;33m,\u001b[0m \u001b[0mwidth\u001b[0m \u001b[1;33m=\u001b[0m \u001b[1;36m50\u001b[0m\u001b[1;33m,\u001b[0m \u001b[0mheight\u001b[0m\u001b[1;33m=\u001b[0m\u001b[1;36m50\u001b[0m\u001b[1;33m,\u001b[0m \u001b[0mbg\u001b[0m \u001b[1;33m=\u001b[0m \u001b[1;34m'blue'\u001b[0m\u001b[1;33m)\u001b[0m\u001b[1;33m\u001b[0m\u001b[1;33m\u001b[0m\u001b[0m\n\u001b[0m\u001b[0;32m      2\u001b[0m \u001b[0mcanvas\u001b[0m\u001b[1;33m.\u001b[0m\u001b[0mpack\u001b[0m\u001b[1;33m(\u001b[0m\u001b[1;33m)\u001b[0m\u001b[1;33m\u001b[0m\u001b[1;33m\u001b[0m\u001b[0m\n",
      "\u001b[1;32mc:\\users\\harshit\\appdata\\local\\programs\\python\\python38\\lib\\tkinter\\__init__.py\u001b[0m in \u001b[0;36m__init__\u001b[1;34m(self, master, cnf, **kw)\u001b[0m\n\u001b[0;32m   2681\u001b[0m         \u001b[0mstate\u001b[0m\u001b[1;33m,\u001b[0m \u001b[0mtakefocus\u001b[0m\u001b[1;33m,\u001b[0m \u001b[0mwidth\u001b[0m\u001b[1;33m,\u001b[0m \u001b[0mxscrollcommand\u001b[0m\u001b[1;33m,\u001b[0m \u001b[0mxscrollincrement\u001b[0m\u001b[1;33m,\u001b[0m\u001b[1;33m\u001b[0m\u001b[1;33m\u001b[0m\u001b[0m\n\u001b[0;32m   2682\u001b[0m         yscrollcommand, yscrollincrement.\"\"\"\n\u001b[1;32m-> 2683\u001b[1;33m         \u001b[0mWidget\u001b[0m\u001b[1;33m.\u001b[0m\u001b[0m__init__\u001b[0m\u001b[1;33m(\u001b[0m\u001b[0mself\u001b[0m\u001b[1;33m,\u001b[0m \u001b[0mmaster\u001b[0m\u001b[1;33m,\u001b[0m \u001b[1;34m'canvas'\u001b[0m\u001b[1;33m,\u001b[0m \u001b[0mcnf\u001b[0m\u001b[1;33m,\u001b[0m \u001b[0mkw\u001b[0m\u001b[1;33m)\u001b[0m\u001b[1;33m\u001b[0m\u001b[1;33m\u001b[0m\u001b[0m\n\u001b[0m\u001b[0;32m   2684\u001b[0m \u001b[1;33m\u001b[0m\u001b[0m\n\u001b[0;32m   2685\u001b[0m     \u001b[1;32mdef\u001b[0m \u001b[0maddtag\u001b[0m\u001b[1;33m(\u001b[0m\u001b[0mself\u001b[0m\u001b[1;33m,\u001b[0m \u001b[1;33m*\u001b[0m\u001b[0margs\u001b[0m\u001b[1;33m)\u001b[0m\u001b[1;33m:\u001b[0m\u001b[1;33m\u001b[0m\u001b[1;33m\u001b[0m\u001b[0m\n",
      "\u001b[1;32mc:\\users\\harshit\\appdata\\local\\programs\\python\\python38\\lib\\tkinter\\__init__.py\u001b[0m in \u001b[0;36m__init__\u001b[1;34m(self, master, widgetName, cnf, kw, extra)\u001b[0m\n\u001b[0;32m   2565\u001b[0m         \u001b[1;32mfor\u001b[0m \u001b[0mk\u001b[0m\u001b[1;33m,\u001b[0m \u001b[0mv\u001b[0m \u001b[1;32min\u001b[0m \u001b[0mclasses\u001b[0m\u001b[1;33m:\u001b[0m\u001b[1;33m\u001b[0m\u001b[1;33m\u001b[0m\u001b[0m\n\u001b[0;32m   2566\u001b[0m             \u001b[1;32mdel\u001b[0m \u001b[0mcnf\u001b[0m\u001b[1;33m[\u001b[0m\u001b[0mk\u001b[0m\u001b[1;33m]\u001b[0m\u001b[1;33m\u001b[0m\u001b[1;33m\u001b[0m\u001b[0m\n\u001b[1;32m-> 2567\u001b[1;33m         self.tk.call(\n\u001b[0m\u001b[0;32m   2568\u001b[0m             (widgetName, self._w) + extra + self._options(cnf))\n\u001b[0;32m   2569\u001b[0m         \u001b[1;32mfor\u001b[0m \u001b[0mk\u001b[0m\u001b[1;33m,\u001b[0m \u001b[0mv\u001b[0m \u001b[1;32min\u001b[0m \u001b[0mclasses\u001b[0m\u001b[1;33m:\u001b[0m\u001b[1;33m\u001b[0m\u001b[1;33m\u001b[0m\u001b[0m\n",
      "\u001b[1;31mTclError\u001b[0m: can't invoke \"canvas\" command: application has been destroyed"
     ]
    }
   ],
   "source": [
    "canvas = tk.Canvas(var, width = 50, height=50, bg = 'blue')\n",
    "canvas.pack()\n"
   ]
  },
  {
   "cell_type": "code",
   "execution_count": 15,
   "id": "innocent-decimal",
   "metadata": {},
   "outputs": [
    {
     "ename": "NameError",
     "evalue": "name 'canvas' is not defined",
     "output_type": "error",
     "traceback": [
      "\u001b[1;31m---------------------------------------------------------------------------\u001b[0m",
      "\u001b[1;31mNameError\u001b[0m                                 Traceback (most recent call last)",
      "\u001b[1;32m<ipython-input-15-d28f84beb747>\u001b[0m in \u001b[0;36m<module>\u001b[1;34m\u001b[0m\n\u001b[0;32m      4\u001b[0m \u001b[0my\u001b[0m \u001b[1;33m=\u001b[0m \u001b[0mint\u001b[0m\u001b[1;33m(\u001b[0m\u001b[0mcanvas_width\u001b[0m\u001b[1;33m/\u001b[0m\u001b[1;36m2\u001b[0m\u001b[1;33m)\u001b[0m\u001b[1;33m\u001b[0m\u001b[1;33m\u001b[0m\u001b[0m\n\u001b[0;32m      5\u001b[0m \u001b[1;33m\u001b[0m\u001b[0m\n\u001b[1;32m----> 6\u001b[1;33m \u001b[0mcanvas\u001b[0m\u001b[1;33m.\u001b[0m\u001b[0mcreate_line\u001b[0m\u001b[1;33m(\u001b[0m\u001b[0mx\u001b[0m\u001b[1;33m,\u001b[0m \u001b[0my\u001b[0m\u001b[1;33m,\u001b[0m \u001b[0mcanvas_width\u001b[0m\u001b[1;33m,\u001b[0m \u001b[0my\u001b[0m\u001b[1;33m)\u001b[0m\u001b[1;33m\u001b[0m\u001b[1;33m\u001b[0m\u001b[0m\n\u001b[0m",
      "\u001b[1;31mNameError\u001b[0m: name 'canvas' is not defined"
     ]
    }
   ],
   "source": [
    "canvas_width = 200\n",
    "canvas_height = 50\n",
    "x = int(canvas_height/2)\n",
    "y = int(canvas_width/2)\n",
    "\n",
    "canvas.create_line(x, y, canvas_width, y)\n"
   ]
  },
  {
   "cell_type": "code",
   "execution_count": 17,
   "id": "democratic-verification",
   "metadata": {},
   "outputs": [],
   "source": [
    "from tkinter import *"
   ]
  },
  {
   "cell_type": "code",
   "execution_count": 22,
   "id": "parliamentary-arkansas",
   "metadata": {},
   "outputs": [],
   "source": [
    "window = Tk()\n",
    "window.geometry('350x200')\n",
    "\n",
    "def clicked():\n",
    "    l1.configure(text=\"button clicked\")\n",
    "    \n",
    "\n",
    "l1 = Label(window, text=\"something\") \n",
    "\n",
    "bt = Button(window, text = 'enter', bg = 'blue', fg='white', command = clicked)\n",
    "l1.grid(column = 0, row = 0)\n",
    "bt.grid(column = 1, row = 0)\n",
    "\n",
    "#here the l1 will first display the original value and upon the button click, the l1 value is changed so it displays something else\n",
    "\n",
    "    \n",
    "window.mainloop()"
   ]
  },
  {
   "cell_type": "code",
   "execution_count": 24,
   "id": "documentary-nightmare",
   "metadata": {},
   "outputs": [],
   "source": [
    "window = Tk()\n",
    "window.geometry('350x200')\n",
    "\n",
    "txt = Entry(window, width=15)\n",
    "\n",
    "txt.grid(column=2, row=0)\n",
    "\n",
    "def clicked():\n",
    "    text = \"welcome to \" + txt.get()\n",
    "    l1.configure(text=text)\n",
    "    \n",
    "    \n",
    "\n",
    "l1 = Label(window, text=\"something\") \n",
    "\n",
    "bt = Button(window, text = 'enter', bg = 'blue', fg='white', command = clicked)\n",
    "l1.grid(column = 0, row = 0)\n",
    "bt.grid(column = 1, row = 0)\n",
    "\n",
    "#grid() sets the elements at specified positions\n",
    "\n",
    "window.mainloop()"
   ]
  },
  {
   "cell_type": "code",
   "execution_count": 28,
   "id": "arranged-reconstruction",
   "metadata": {},
   "outputs": [],
   "source": [
    "#combo box\n",
    "from tkinter import *\n",
    "from tkinter.ttk import *"
   ]
  },
  {
   "cell_type": "code",
   "execution_count": 32,
   "id": "documentary-equation",
   "metadata": {},
   "outputs": [],
   "source": [
    "window = Tk()\n",
    "window.title('Combo Box ')\n",
    "window.geometry('350x200')\n",
    "\n",
    "combo = Combobox(window)\n",
    "combo['values'] = ('jaipur', 'delhi', 'jodhpur', 'ajmer')\n",
    "\n",
    "combo.grid(column=1, row=1)\n",
    "\n",
    "window.mainloop()"
   ]
  },
  {
   "cell_type": "code",
   "execution_count": null,
   "id": "julian-stevens",
   "metadata": {},
   "outputs": [],
   "source": [
    "#window.resizable(0, 0) disablws window resizing"
   ]
  }
 ],
 "metadata": {
  "kernelspec": {
   "display_name": "Python 3",
   "language": "python",
   "name": "python3"
  },
  "language_info": {
   "codemirror_mode": {
    "name": "ipython",
    "version": 3
   },
   "file_extension": ".py",
   "mimetype": "text/x-python",
   "name": "python",
   "nbconvert_exporter": "python",
   "pygments_lexer": "ipython3",
   "version": "3.8.1"
  }
 },
 "nbformat": 4,
 "nbformat_minor": 5
}
