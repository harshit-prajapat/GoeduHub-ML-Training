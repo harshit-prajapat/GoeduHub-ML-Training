{
 "cells": [
  {
   "cell_type": "code",
   "execution_count": 4,
   "id": "ranging-ethnic",
   "metadata": {},
   "outputs": [],
   "source": [
    "# Assignment/Task 2\n",
    "# 1. Is a list mutable?\n",
    "#Ans  yes\n",
    "\n",
    "\n",
    "# 2. Does a list need to be homogeneous?\n",
    "#Ans No\n",
    "\n",
    "\n",
    "# 3. What is the difference between a list and a tuple.\n",
    "#Ans. A list is mutable while tuple is not.\n"
   ]
  },
  {
   "cell_type": "code",
   "execution_count": 12,
   "id": "dimensional-emerald",
   "metadata": {},
   "outputs": [
    {
     "name": "stdout",
     "output_type": "stream",
     "text": [
      "9\n"
     ]
    }
   ],
   "source": [
    "# 4. How to find the number of elements in the list?\n",
    "#ans   len(list_name) can give us the length of list i.e. no. of elements in the list\n",
    "\n",
    "list = [1, 2, 3, 4, 5, 6 , 7, 8, 9]\n",
    "print(len(list))\n"
   ]
  },
  {
   "cell_type": "code",
   "execution_count": 13,
   "id": "judicial-dominant",
   "metadata": {},
   "outputs": [
    {
     "name": "stdout",
     "output_type": "stream",
     "text": [
      "False\n"
     ]
    }
   ],
   "source": [
    "# 5. How to check whether the list is empty or not?\n",
    "#ans.\n",
    "\n",
    "print(len(list)==0)"
   ]
  },
  {
   "cell_type": "code",
   "execution_count": null,
   "id": "likely-startup",
   "metadata": {},
   "outputs": [],
   "source": [
    "# 6. How to find the first and last element of the list?\n",
    "#ans.  list[0] - first element\n",
    "#      list[-1] - last element\n",
    "\n",
    "print(list[0])\n",
    "print(list[-1])\n"
   ]
  },
  {
   "cell_type": "code",
   "execution_count": 14,
   "id": "sixth-reflection",
   "metadata": {},
   "outputs": [
    {
     "name": "stdout",
     "output_type": "stream",
     "text": [
      "9\n",
      "1\n"
     ]
    }
   ],
   "source": [
    "# 7. How to find the largest and lowest value in the list?\n",
    "#ans.  max(list_name) - largest element\n",
    "#      min(list_name) - smallest element\n",
    "\n",
    "print(max(list))\n",
    "\n",
    "print(min(list))"
   ]
  },
  {
   "cell_type": "code",
   "execution_count": 15,
   "id": "elegant-introduction",
   "metadata": {},
   "outputs": [
    {
     "data": {
      "text/plain": [
       "4"
      ]
     },
     "execution_count": 15,
     "metadata": {},
     "output_type": "execute_result"
    }
   ],
   "source": [
    "# 8. How to access elements of the list?\n",
    "#ans.  list[index_of_element_to_access]\n",
    "\n",
    "list[3]"
   ]
  },
  {
   "cell_type": "code",
   "execution_count": 16,
   "id": "liable-generic",
   "metadata": {},
   "outputs": [
    {
     "data": {
      "text/plain": [
       "4"
      ]
     },
     "execution_count": 16,
     "metadata": {},
     "output_type": "execute_result"
    }
   ],
   "source": [
    "# 9. Remove elements in a list before a specific index\n",
    "#ans.   list.pop(index) will remove the element at the index, by default last element will be removed\n",
    "\n",
    "list.pop(3)  "
   ]
  },
  {
   "cell_type": "code",
   "execution_count": 1,
   "id": "positive-fishing",
   "metadata": {},
   "outputs": [
    {
     "name": "stdout",
     "output_type": "stream",
     "text": [
      "[1, 2, 3, 4, 5, 6, 7, 8, 9]\n",
      "[1, 2, 3, 5, 7, 9]\n"
     ]
    }
   ],
   "source": [
    "# 10. Remove elements in a list between 2 indices\n",
    "\n",
    "list = [1, 2, 3, 4, 5, 6, 7, 8, 9]\n",
    "\n",
    "index1 = 3\n",
    "index2 = 7\n",
    "\n",
    "print(list)\n",
    "\n",
    "del list[index1:index2+1:2]\n",
    "    \n",
    "print(list)"
   ]
  },
  {
   "cell_type": "code",
   "execution_count": 33,
   "id": "improving-sound",
   "metadata": {},
   "outputs": [
    {
     "name": "stdout",
     "output_type": "stream",
     "text": [
      "[1, 2, 3, 4, 5, 6, 7, 8, 9]\n",
      "2 3\n",
      "4 5\n",
      "6 7\n"
     ]
    }
   ],
   "source": [
    "# 11. Return every 2nd element in a list between 2 indices\n",
    "\n",
    "list = [1, 2, 3, 4, 5, 6, 7, 8, 9]\n",
    "\n",
    "index1 = 2\n",
    "index2 = 7\n",
    "\n",
    "print(list)\n",
    "\n",
    "for i in range(index1, index2, 2):\n",
    "    print(i, end = \" \")\n",
    "    print(list[i])\n",
    "\n",
    "    \n",
    "a_list = [0, 1, 2, 3]\n",
    "\n",
    "every_second_element = a_list[::2]\n",
    "\n",
    "print(every_second_element)"
   ]
  },
  {
   "cell_type": "code",
   "execution_count": 1,
   "id": "adequate-remains",
   "metadata": {},
   "outputs": [
    {
     "name": "stdout",
     "output_type": "stream",
     "text": [
      "1\n",
      "3\n",
      "5\n"
     ]
    }
   ],
   "source": [
    "# 12. Get the first element from each nested list in a list\n",
    "nested_list = [[1, 2], [3, 4], [5, 6]]\n",
    "\n",
    "for i in nested_list:\n",
    "    print(i[0])"
   ]
  },
  {
   "cell_type": "code",
   "execution_count": 3,
   "id": "unusual-companion",
   "metadata": {},
   "outputs": [
    {
     "name": "stdout",
     "output_type": "stream",
     "text": [
      "6\n",
      "0\n"
     ]
    }
   ],
   "source": [
    "# 13. How to modify elements of the list?\n",
    "# Ans. just assign a new value after accessing an element of the list\n",
    "\n",
    "list = [1, 2, 3, 4, 5, 6, 7, 8, 9]\n",
    "\n",
    "print(list[5])\n",
    "\n",
    "list[5] = 0\n",
    "\n",
    "print(list[5])\n"
   ]
  },
  {
   "cell_type": "code",
   "execution_count": 9,
   "id": "challenging-choice",
   "metadata": {},
   "outputs": [
    {
     "name": "stdout",
     "output_type": "stream",
     "text": [
      "[1, 2, 3, 4, 5, 6, 7, 8]\n"
     ]
    }
   ],
   "source": [
    "# 14. How to concatenate two lists?\n",
    "\n",
    "list1 = [1, 2, 3, 4]\n",
    "list2 = [5, 6, 7, 8]\n",
    "\n",
    "list3 = list1+list2  #method 1\n",
    "# list1.extend(list2)  #method 2 \n",
    "# print(list1)\n",
    "print(list3)"
   ]
  },
  {
   "cell_type": "code",
   "execution_count": 10,
   "id": "referenced-consumer",
   "metadata": {},
   "outputs": [
    {
     "name": "stdout",
     "output_type": "stream",
     "text": [
      "[6, 8, 10, 12]\n"
     ]
    }
   ],
   "source": [
    "# 15. How to add two lists element-wise in python?\n",
    "\n",
    "list1 = [1, 2, 3, 4]\n",
    "list2 = [5, 6, 7, 8]\n",
    "\n",
    "list3 = []\n",
    "\n",
    "for i in range(len(list1)):\n",
    "    list3.append(list1[i]+list2[i])\n",
    "    \n",
    "print(list3)\n",
    "\n",
    "list1 = [1, 2, 3]\n",
    "list2 = [4, 5, 6]\n",
    "\n",
    "sum_list = [a + b for a, b in zip(list1, list2)]\n",
    "\n",
    "print(sum_list)\n",
    "\n",
    "\n",
    "list1 = [1, 2, 3]\n",
    "list2 = [4, 5, 6]\n",
    "sum_list = []\n",
    "\n",
    "for (item1, item2) in zip(list1, list2):\n",
    "    sum_list.append(item1+item2)\n",
    "\n",
    "print(sum_list)"
   ]
  },
  {
   "cell_type": "code",
   "execution_count": 2,
   "id": "early-gates",
   "metadata": {},
   "outputs": [
    {
     "name": "stdout",
     "output_type": "stream",
     "text": [
      "[1, 2, 4, 5]\n",
      "[2, 4, 5]\n",
      "[]\n"
     ]
    },
    {
     "ename": "NameError",
     "evalue": "name 'list1' is not defined",
     "output_type": "error",
     "traceback": [
      "\u001b[1;31m---------------------------------------------------------------------------\u001b[0m",
      "\u001b[1;31mNameError\u001b[0m                                 Traceback (most recent call last)",
      "\u001b[1;32m<ipython-input-2-7f633998a36a>\u001b[0m in \u001b[0;36m<module>\u001b[1;34m\u001b[0m\n\u001b[0;32m     16\u001b[0m \u001b[1;32mdel\u001b[0m \u001b[0mlist1\u001b[0m    \u001b[1;31m#deletes the variable list1\u001b[0m\u001b[1;33m\u001b[0m\u001b[1;33m\u001b[0m\u001b[0m\n\u001b[0;32m     17\u001b[0m \u001b[1;33m\u001b[0m\u001b[0m\n\u001b[1;32m---> 18\u001b[1;33m \u001b[0mprint\u001b[0m\u001b[1;33m(\u001b[0m\u001b[0mlist1\u001b[0m\u001b[1;33m)\u001b[0m\u001b[1;33m\u001b[0m\u001b[1;33m\u001b[0m\u001b[0m\n\u001b[0m",
      "\u001b[1;31mNameError\u001b[0m: name 'list1' is not defined"
     ]
    }
   ],
   "source": [
    "# 16. Difference between del and clear?\n",
    "#ans. del can delete a specific element or the whole list, and clear deletes all the list elements at once\n",
    "\n",
    "list1 = [1, 2, 3,4 ,5]\n",
    "\n",
    "del list1[2]\n",
    "print(list1)\n",
    "\n",
    "del list1[0]\n",
    "print(list1)\n",
    "\n",
    "list1.clear()    #only empties the list\n",
    "\n",
    "print(list1)\n",
    "\n",
    "del list1    #deletes the variable list1\n",
    "\n",
    "print(list1)  #gives error since there exist no list variable after the last line executed\n"
   ]
  },
  {
   "cell_type": "code",
   "execution_count": 16,
   "id": "banner-montgomery",
   "metadata": {},
   "outputs": [
    {
     "name": "stdout",
     "output_type": "stream",
     "text": [
      "[1, 2, 3, 4, 5, 6, 7]\n",
      "[1, 3, 4, 5, 6, 7]\n"
     ]
    }
   ],
   "source": [
    "# 17. Difference between remove and pop?\n",
    "#Ans.   remove works by finding the element and then removing it, i.e. the element itself is the argument to remove()\n",
    "\n",
    "# but pop() takes index as the argument and directly deletes the element\n",
    "\n",
    "#pop is faster than remove\n",
    "\n",
    "list1 = [1, 2, 3, 4, 5, 6 , 7, 8]\n",
    "\n",
    "list1.remove(8)\n",
    "print(list1)     #element 8 has been deleted from the list\n",
    "\n",
    "list1.pop(1)  #element 2 will be deleetd as list1[1] = 2, default index is -1 i.e last element\n",
    "print(list1)\n",
    "\n"
   ]
  },
  {
   "cell_type": "code",
   "execution_count": 17,
   "id": "defensive-newton",
   "metadata": {},
   "outputs": [
    {
     "name": "stdout",
     "output_type": "stream",
     "text": [
      "[1, 2, 3, 4, 5]\n",
      "[1, 2, 3, 4, 5, 6, 7, 8, 9]\n"
     ]
    }
   ],
   "source": [
    "# 18. Difference between append and extend?\n",
    "#Ans. append adds a single elemetn to the end of the list\n",
    "\n",
    "# extend can be used to add another list or multiple elements(which will be in a list) to the current list\n",
    "\n",
    "list1 = [1, 2, 3,4]\n",
    "\n",
    "list1.append(5)\n",
    "print(list1)\n",
    "\n",
    "list2 = [6, 7, 8, 9]\n",
    "\n",
    "list1.extend(list2)\n",
    "print(list1)\n"
   ]
  },
  {
   "cell_type": "code",
   "execution_count": 18,
   "id": "contained-photography",
   "metadata": {},
   "outputs": [
    {
     "name": "stdout",
     "output_type": "stream",
     "text": [
      "4\n",
      "[2, 4, 5]\n"
     ]
    }
   ],
   "source": [
    "# 19. Difference between indexing and Slicing?\n",
    "# Ans. indexing allows to access one element of the list at a time\n",
    "\n",
    "# whereas slicing allows us to select multpile values from the list at a time\n",
    "\n",
    "list1 = [1, 2, 4, 5, 6]\n",
    "\n",
    "print(list1[2])\n",
    "\n",
    "print(list1[1:4])  #ending index value is excluded\n"
   ]
  },
  {
   "cell_type": "code",
   "execution_count": 19,
   "id": "arbitrary-floating",
   "metadata": {},
   "outputs": [
    {
     "name": "stdout",
     "output_type": "stream",
     "text": [
      "[0, 2, 4, 4, 6, 8, 24, 35, 67, 79]\n",
      "[2, 5, 8, 24, 13, 3, 5, 68, 89, 3]\n",
      "[2, 3, 3, 5, 5, 8, 13, 24, 68, 89]\n"
     ]
    }
   ],
   "source": [
    "# 20. Difference between sort and sorted?\n",
    "list1 = [4, 6, 8, 2, 4, 67,24, 79, 0, 35]\n",
    "list1.sort()    #in place modification of the list\n",
    "print(list1)\n",
    "# Syntax: List_name.sort(key, reverse=False)\n",
    "\n",
    "# Parameters:\n",
    "# key: A function that serves as a key for the sort comparison.\n",
    "# reverse: If true, the list is sorted in descending order.\n",
    "\n",
    "# Return type: None\n",
    "\n",
    "list2 = [2, 5, 8, 24, 13,3, 5, 68, 89,3]\n",
    "\n",
    "sorted(list2)     #returns a sorted list, no in place modification \n",
    "print(list2)\n",
    "\n",
    "# Syntax: sorted(iterable, key, reverse=False)\n",
    "\n",
    "# Parameters:\n",
    "# Iterable: sequence (list, tuple, string) or collection (dictionary, set, frozenset) or any other iterator that needs \n",
    "# to be sorted.\n",
    "# Key(optional): A function that would serve as a key or a basis of sort comparison.\n",
    "# Reverse(optional): If set True, then the iterable would be sorted in reverse (descending) order, by default it is \n",
    "# set as False.\n",
    "\n",
    "# Return Type: Returns a sorted list.\n",
    "\n",
    "\n",
    "list2 = sorted(list2)\n",
    "print(list2)"
   ]
  },
  {
   "cell_type": "code",
   "execution_count": 19,
   "id": "acoustic-fountain",
   "metadata": {},
   "outputs": [
    {
     "name": "stdout",
     "output_type": "stream",
     "text": [
      "[7, 6, 5, 4, 3, 2, 1]\n"
     ]
    },
    {
     "ename": "TypeError",
     "evalue": "'list' object is not callable",
     "output_type": "error",
     "traceback": [
      "\u001b[1;31m---------------------------------------------------------------------------\u001b[0m",
      "\u001b[1;31mTypeError\u001b[0m                                 Traceback (most recent call last)",
      "\u001b[1;32m<ipython-input-19-0c11c2e4c3ef>\u001b[0m in \u001b[0;36m<module>\u001b[1;34m\u001b[0m\n\u001b[0;32m      9\u001b[0m \u001b[0mprint\u001b[0m\u001b[1;33m(\u001b[0m\u001b[0mlist1\u001b[0m\u001b[1;33m)\u001b[0m\u001b[1;33m\u001b[0m\u001b[1;33m\u001b[0m\u001b[0m\n\u001b[0;32m     10\u001b[0m \u001b[1;33m\u001b[0m\u001b[0m\n\u001b[1;32m---> 11\u001b[1;33m \u001b[0mprint\u001b[0m\u001b[1;33m(\u001b[0m\u001b[0mlist\u001b[0m\u001b[1;33m(\u001b[0m\u001b[0mreversed\u001b[0m\u001b[1;33m(\u001b[0m\u001b[0mlist1\u001b[0m\u001b[1;33m)\u001b[0m\u001b[1;33m)\u001b[0m\u001b[1;33m)\u001b[0m\u001b[1;33m\u001b[0m\u001b[1;33m\u001b[0m\u001b[0m\n\u001b[0m\u001b[0;32m     12\u001b[0m \u001b[1;33m\u001b[0m\u001b[0m\n\u001b[0;32m     13\u001b[0m \u001b[0mprint\u001b[0m\u001b[1;33m(\u001b[0m\u001b[0mlist1\u001b[0m\u001b[1;33m)\u001b[0m\u001b[1;33m\u001b[0m\u001b[1;33m\u001b[0m\u001b[0m\n",
      "\u001b[1;31mTypeError\u001b[0m: 'list' object is not callable"
     ]
    }
   ],
   "source": [
    "# 21. Difference between reverse and reversed?\n",
    "#Ans. list reverse function reverses the list in place i.e it will change the source list\n",
    "\n",
    "#whereas the reversed function will return an iterator to the new reversed list\n",
    "\n",
    "list1 = [1, 2, 3, 4, 5, 6, 7]\n",
    "\n",
    "list1.reverse()\n",
    "print(list1)\n",
    "\n",
    "print(list(reversed(list1)))\n",
    "\n",
    "print(list1)\n"
   ]
  },
  {
   "cell_type": "code",
   "execution_count": 25,
   "id": "confident-makeup",
   "metadata": {},
   "outputs": [
    {
     "name": "stdout",
     "output_type": "stream",
     "text": [
      "[10, 2, 3, 4]\n",
      "[9, 2, 3, 4]\n",
      "[10, 2, 3, 4]\n"
     ]
    }
   ],
   "source": [
    "# 22. Difference between copy and deepcopy?\n",
    "# simply copying a list will just make a pointer to the list, so if we change something in the copied list,\n",
    "# it will also reflect in the original list\n",
    "\n",
    "#whereas in deepcopy, each element of the source list is copied to a new list\n",
    "\n",
    "\n",
    "list1 = [1, 2,3, 4]\n",
    "list3 = list1         #copying a list\n",
    "\n",
    "list2 = list1.copy()  #deepcopy of a list\n",
    "\n",
    "list2[0] = 9\n",
    "\n",
    "list3[0] = 10\n",
    "\n",
    "print(list1)\n",
    "print(list2)\n",
    "print(list3)"
   ]
  },
  {
   "cell_type": "code",
   "execution_count": 17,
   "id": "outstanding-diving",
   "metadata": {},
   "outputs": [
    {
     "name": "stdout",
     "output_type": "stream",
     "text": [
      "{1, 2, 3, 4, 5, 6}\n"
     ]
    }
   ],
   "source": [
    "# 23. How to remove duplicate elements in the list?\n",
    "#Ans. one way to remove the duplicates can be to convert the list to a set\n",
    "list1 = [1, 1, 2, 3, 4, 4, 5, 5, 5, 5, 6, 3]\n",
    "\n",
    "set1 = set(list1)\n",
    "print(set1)"
   ]
  },
  {
   "cell_type": "code",
   "execution_count": 16,
   "id": "gothic-collection",
   "metadata": {},
   "outputs": [
    {
     "name": "stdout",
     "output_type": "stream",
     "text": [
      "5\n",
      "\n"
     ]
    },
    {
     "ename": "ValueError",
     "evalue": "0 is not in list",
     "output_type": "error",
     "traceback": [
      "\u001b[1;31m---------------------------------------------------------------------------\u001b[0m",
      "\u001b[1;31mValueError\u001b[0m                                Traceback (most recent call last)",
      "\u001b[1;32m<ipython-input-16-9cd5dc293f71>\u001b[0m in \u001b[0;36m<module>\u001b[1;34m\u001b[0m\n\u001b[0;32m      6\u001b[0m \u001b[0mprint\u001b[0m\u001b[1;33m(\u001b[0m\u001b[0mlist1\u001b[0m\u001b[1;33m.\u001b[0m\u001b[0mindex\u001b[0m\u001b[1;33m(\u001b[0m\u001b[1;36m647\u001b[0m\u001b[1;33m)\u001b[0m\u001b[1;33m)\u001b[0m\u001b[1;33m\u001b[0m\u001b[1;33m\u001b[0m\u001b[0m\n\u001b[0;32m      7\u001b[0m \u001b[0mprint\u001b[0m\u001b[1;33m(\u001b[0m\u001b[1;33m)\u001b[0m\u001b[1;33m\u001b[0m\u001b[1;33m\u001b[0m\u001b[0m\n\u001b[1;32m----> 8\u001b[1;33m \u001b[0mprint\u001b[0m\u001b[1;33m(\u001b[0m\u001b[0mlist1\u001b[0m\u001b[1;33m.\u001b[0m\u001b[0mindex\u001b[0m\u001b[1;33m(\u001b[0m\u001b[1;36m0\u001b[0m\u001b[1;33m)\u001b[0m\u001b[1;33m)\u001b[0m\u001b[1;33m\u001b[0m\u001b[1;33m\u001b[0m\u001b[0m\n\u001b[0m",
      "\u001b[1;31mValueError\u001b[0m: 0 is not in list"
     ]
    }
   ],
   "source": [
    "# 24. How to find an index of an element in the python list?\n",
    "# using index function. Give the element as argument and the function returns the index of the given element.\n",
    "\n",
    "#raises value error if value is not present in list\n",
    "\n",
    "list1 = [12, 23, 4, 3, 5, 647, 8 ,5, 8, 7, 9, 6, 79]\n",
    "\n",
    "print(list1.index(647))\n",
    "print()\n",
    "print(list1.index(0))"
   ]
  },
  {
   "cell_type": "code",
   "execution_count": 13,
   "id": "genetic-convertible",
   "metadata": {},
   "outputs": [
    {
     "name": "stdout",
     "output_type": "stream",
     "text": [
      "1 3\n",
      "2 1\n",
      "3 1\n",
      "4 3\n"
     ]
    }
   ],
   "source": [
    "# 25. How to find the occurrences of an element in the python list?\n",
    "# count() can return the number of occurrences of an element\n",
    "\n",
    "list1 = [1, 1, 1, 2, 3, 4,4 , 4]\n",
    "\n",
    "print('1', list1.count(1))\n",
    "print('2', list1.count(2))\n",
    "print('3', list1.count(3))\n",
    "print('4', list1.count(4))"
   ]
  },
  {
   "cell_type": "code",
   "execution_count": 12,
   "id": "collaborative-tourist",
   "metadata": {},
   "outputs": [
    {
     "name": "stdout",
     "output_type": "stream",
     "text": [
      "[1, 2, 3, 4, 5, 7]\n"
     ]
    }
   ],
   "source": [
    "# 26. How to insert an item at a given position?\n",
    "# using insert function\n",
    "\n",
    "list1 = [1, 2, 3, 4, 5]\n",
    "\n",
    "list1.insert(6, 7)  #insert(position_to_insert, value_to_insert)\n",
    "\n",
    "print(list1)"
   ]
  },
  {
   "cell_type": "code",
   "execution_count": 8,
   "id": "touched-monitoring",
   "metadata": {},
   "outputs": [
    {
     "name": "stdout",
     "output_type": "stream",
     "text": [
      "True\n"
     ]
    }
   ],
   "source": [
    "# 27. How to check if an item is in the list?\n",
    "#using in operator\n",
    "\n",
    "list1 = [1, 2, 3, 4,5]\n",
    "\n",
    "print(1 in list1)"
   ]
  },
  {
   "cell_type": "code",
   "execution_count": 9,
   "id": "distinct-wichita",
   "metadata": {},
   "outputs": [
    {
     "name": "stdout",
     "output_type": "stream",
     "text": [
      "[1, 2, 3, 4, 5, 6, 7, 8, 9, 10]\n"
     ]
    }
   ],
   "source": [
    "# 28. How to flatten a list in python?\n",
    "\n",
    "data = [[1, 2, 3], [4, 5], [6, 7, 8, 9, 10]]\n",
    "flat_list = []\n",
    "for item in data:\n",
    "    flat_list += item\n",
    "print(flat_list)"
   ]
  },
  {
   "cell_type": "code",
   "execution_count": 7,
   "id": "engaging-probe",
   "metadata": {},
   "outputs": [
    {
     "name": "stdout",
     "output_type": "stream",
     "text": [
      "(1, 2, 3, 4)\n",
      "<class 'tuple'>\n",
      "<class 'set'>\n",
      "{1, 2, 3, 4}\n",
      "{1: 'a', 2: 'b', 3: 'c', 4: 'd'}\n",
      "<class 'dict'>\n"
     ]
    }
   ],
   "source": [
    "# 29. How to convert python list to other data structures like set, tuple, dictionary?\n",
    "\n",
    "list1 = [1, 2, 3, 4]\n",
    "\n",
    "tp = tuple(list1)\n",
    "print(tp)\n",
    "print(type(tp))\n",
    "\n",
    "st = set(list1)\n",
    "print(type(st))\n",
    "print(st)\n",
    "\n",
    "list2 = ['a', 'b', 'c', 'd']\n",
    "\n",
    "dictionary = dict(zip(list1, list2))\n",
    "print(dictionary)\n",
    "print(type(dictionary))"
   ]
  },
  {
   "cell_type": "code",
   "execution_count": 2,
   "id": "inclusive-buddy",
   "metadata": {},
   "outputs": [
    {
     "name": "stdout",
     "output_type": "stream",
     "text": [
      "['A', 'B', 'C']\n"
     ]
    }
   ],
   "source": [
    "# 30. How to apply a function to all items in the list?\n",
    "# Using Map function we can applya function to all item of list.\n",
    "\n",
    "a_list = [\"a\", \"b\", \"c\"]\n",
    "\n",
    "map_object = map(str.upper, a_list)\n",
    "\n",
    "new_list = list(map_object)\n",
    "\n",
    "print(new_list)"
   ]
  },
  {
   "cell_type": "code",
   "execution_count": 12,
   "id": "lonely-foster",
   "metadata": {},
   "outputs": [
    {
     "ename": "SyntaxError",
     "evalue": "invalid syntax (<ipython-input-12-0b1993173ac3>, line 6)",
     "output_type": "error",
     "traceback": [
      "\u001b[1;36m  File \u001b[1;32m\"<ipython-input-12-0b1993173ac3>\"\u001b[1;36m, line \u001b[1;32m6\u001b[0m\n\u001b[1;33m    lst = [i for i in lst: i>4]\u001b[0m\n\u001b[1;37m                         ^\u001b[0m\n\u001b[1;31mSyntaxError\u001b[0m\u001b[1;31m:\u001b[0m invalid syntax\n"
     ]
    }
   ],
   "source": [
    "# 31. How to filter the elements based on a function in a python list?\n",
    "# Using filter () function we can filter the elements with apply some conditions.\n",
    "\n",
    "mark = [70, 60, 80, 90, 50]\n",
    "# lst = [1, 2, 3, 4, 5, 6, 7, 8, 9]\n",
    "filtered = filter(lambda score: score >= 70, mark)\n",
    "\n",
    "print(list(filtered))\n",
    "print()\n",
    "# print(lst)"
   ]
  },
  {
   "cell_type": "code",
   "execution_count": null,
   "id": "advanced-department",
   "metadata": {},
   "outputs": [],
   "source": [
    "# 32. How python lists are stored in memory?\n",
    "# Ans.  List is stored as distinct block of memory bound together by pointers."
   ]
  }
 ],
 "metadata": {
  "kernelspec": {
   "display_name": "Python 3",
   "language": "python",
   "name": "python3"
  },
  "language_info": {
   "codemirror_mode": {
    "name": "ipython",
    "version": 3
   },
   "file_extension": ".py",
   "mimetype": "text/x-python",
   "name": "python",
   "nbconvert_exporter": "python",
   "pygments_lexer": "ipython3",
   "version": "3.8.1"
  }
 },
 "nbformat": 4,
 "nbformat_minor": 5
}
